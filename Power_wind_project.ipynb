{
 "cells": [
  {
   "cell_type": "code",
   "execution_count": 1,
   "metadata": {},
   "outputs": [],
   "source": [
    "#pip install influxdb\n"
   ]
  },
  {
   "cell_type": "markdown",
   "metadata": {},
   "source": [
    "## Step 1: Data Fetching \n"
   ]
  },
  {
   "cell_type": "code",
   "execution_count": 2,
   "metadata": {},
   "outputs": [],
   "source": [
    "from influxdb import InfluxDBClient\n",
    "import datetime\n",
    "import pandas as pd\n",
    "from termcolor import colored\n",
    "import os\n",
    "import matplotlib.pyplot as plt\n",
    "import numpy as np\n",
    "from sklearn.model_selection import train_test_split\n",
    "import mlflow\n",
    "from sklearn.pipeline import Pipeline\n",
    "from sklearn.preprocessing import StandardScaler\n",
    "from sklearn.linear_model import LinearRegression\n",
    "from sklearn.metrics import mean_absolute_error"
   ]
  },
  {
   "cell_type": "code",
   "execution_count": 3,
   "metadata": {},
   "outputs": [],
   "source": [
    "# Set the needed parameters to connect to the database\n",
    "\n",
    "settings = {\n",
    "    'host': 'influxus.itu.dk',\n",
    "    'port': 8086,\n",
    "    'username': 'lsda',\n",
    "    'password': 'icanonlyread'\n",
    "    }\n",
    "\n",
    "# Create an InfluxDB Client instance and select the orkney database\n",
    "\n",
    "client = InfluxDBClient(host=settings['host'], port=settings['port'], username=settings['username'], password=settings['password'])\n",
    "client.switch_database('orkney')"
   ]
  },
  {
   "cell_type": "code",
   "execution_count": 4,
   "metadata": {},
   "outputs": [],
   "source": [
    "## Function to tranform the InfluxDB resulting set into a Dataframe\n",
    "def set_to_dataframe(resulting_set):\n",
    "    \n",
    "    values = resulting_set.raw[\"series\"][0][\"values\"]\n",
    "    columns = resulting_set.raw[\"series\"][0][\"columns\"]\n",
    "    df = pd.DataFrame(values, columns=columns).set_index(\"time\")\n",
    "    df.index = pd.to_datetime(df.index) # Convert to datetime-index\n",
    "\n",
    "    return df"
   ]
  },
  {
   "cell_type": "code",
   "execution_count": 5,
   "metadata": {},
   "outputs": [],
   "source": [
    "days = 90 # -> You can change this to get any other range of days\n",
    "\n",
    "### YOU DON'T NEED TO CHANGE ANYTHING HERE ###\n",
    "power_set = client.query(\n",
    "    \"SELECT * FROM Generation where time > now()-\"+str(days)+\"d\"\n",
    "    ) # Query written in InfluxQL. We are retrieving all generation data from 90 days back.\n",
    "\n",
    "# Get the last 90 days of weather forecasts with the shortest lead time\n",
    "wind_set  = client.query(\n",
    "    \"SELECT * FROM MetForecasts where time > now()-\"+str(days)+\"d and time <= now() and Lead_hours = '1'\"\n",
    "    ) # Query written in InfluxQL. We are retrieving all weather forecast data from 90 days back and with 1 lead hour.\n",
    "\n",
    "power_df = set_to_dataframe(power_set)\n",
    "wind_df = set_to_dataframe(wind_set)"
   ]
  },
  {
   "cell_type": "code",
   "execution_count": 6,
   "metadata": {},
   "outputs": [
    {
     "data": {
      "text/html": [
       "<div>\n",
       "<style scoped>\n",
       "    .dataframe tbody tr th:only-of-type {\n",
       "        vertical-align: middle;\n",
       "    }\n",
       "\n",
       "    .dataframe tbody tr th {\n",
       "        vertical-align: top;\n",
       "    }\n",
       "\n",
       "    .dataframe thead th {\n",
       "        text-align: right;\n",
       "    }\n",
       "</style>\n",
       "<table border=\"1\" class=\"dataframe\">\n",
       "  <thead>\n",
       "    <tr style=\"text-align: right;\">\n",
       "      <th></th>\n",
       "      <th>ANM</th>\n",
       "      <th>Non-ANM</th>\n",
       "      <th>Total</th>\n",
       "    </tr>\n",
       "    <tr>\n",
       "      <th>time</th>\n",
       "      <th></th>\n",
       "      <th></th>\n",
       "      <th></th>\n",
       "    </tr>\n",
       "  </thead>\n",
       "  <tbody>\n",
       "    <tr>\n",
       "      <th>2024-01-27 11:53:00+00:00</th>\n",
       "      <td>8.482847</td>\n",
       "      <td>11.911</td>\n",
       "      <td>20.393847</td>\n",
       "    </tr>\n",
       "    <tr>\n",
       "      <th>2024-01-27 11:54:00+00:00</th>\n",
       "      <td>8.415765</td>\n",
       "      <td>12.050</td>\n",
       "      <td>20.465765</td>\n",
       "    </tr>\n",
       "    <tr>\n",
       "      <th>2024-01-27 11:55:00+00:00</th>\n",
       "      <td>8.315757</td>\n",
       "      <td>11.949</td>\n",
       "      <td>20.264757</td>\n",
       "    </tr>\n",
       "    <tr>\n",
       "      <th>2024-01-27 11:56:00+00:00</th>\n",
       "      <td>8.330100</td>\n",
       "      <td>11.779</td>\n",
       "      <td>20.109100</td>\n",
       "    </tr>\n",
       "    <tr>\n",
       "      <th>2024-01-27 11:57:00+00:00</th>\n",
       "      <td>8.322640</td>\n",
       "      <td>12.185</td>\n",
       "      <td>20.507640</td>\n",
       "    </tr>\n",
       "  </tbody>\n",
       "</table>\n",
       "</div>"
      ],
      "text/plain": [
       "                                ANM  Non-ANM      Total\n",
       "time                                                   \n",
       "2024-01-27 11:53:00+00:00  8.482847   11.911  20.393847\n",
       "2024-01-27 11:54:00+00:00  8.415765   12.050  20.465765\n",
       "2024-01-27 11:55:00+00:00  8.315757   11.949  20.264757\n",
       "2024-01-27 11:56:00+00:00  8.330100   11.779  20.109100\n",
       "2024-01-27 11:57:00+00:00  8.322640   12.185  20.507640"
      ]
     },
     "execution_count": 6,
     "metadata": {},
     "output_type": "execute_result"
    }
   ],
   "source": [
    "# data taken every minute\n",
    "power_df.head()\n",
    "\n"
   ]
  },
  {
   "cell_type": "code",
   "execution_count": 7,
   "metadata": {},
   "outputs": [
    {
     "data": {
      "text/html": [
       "<div>\n",
       "<style scoped>\n",
       "    .dataframe tbody tr th:only-of-type {\n",
       "        vertical-align: middle;\n",
       "    }\n",
       "\n",
       "    .dataframe tbody tr th {\n",
       "        vertical-align: top;\n",
       "    }\n",
       "\n",
       "    .dataframe thead th {\n",
       "        text-align: right;\n",
       "    }\n",
       "</style>\n",
       "<table border=\"1\" class=\"dataframe\">\n",
       "  <thead>\n",
       "    <tr style=\"text-align: right;\">\n",
       "      <th></th>\n",
       "      <th>time</th>\n",
       "      <th>Direction</th>\n",
       "      <th>Lead_hours</th>\n",
       "      <th>Source_time</th>\n",
       "      <th>Speed</th>\n",
       "    </tr>\n",
       "  </thead>\n",
       "  <tbody>\n",
       "    <tr>\n",
       "      <th>0</th>\n",
       "      <td>2024-01-27 12:00:00+00:00</td>\n",
       "      <td>WSW</td>\n",
       "      <td>1</td>\n",
       "      <td>1706349600</td>\n",
       "      <td>12.96416</td>\n",
       "    </tr>\n",
       "    <tr>\n",
       "      <th>1</th>\n",
       "      <td>2024-01-27 15:00:00+00:00</td>\n",
       "      <td>WSW</td>\n",
       "      <td>1</td>\n",
       "      <td>1706360400</td>\n",
       "      <td>13.85824</td>\n",
       "    </tr>\n",
       "    <tr>\n",
       "      <th>2</th>\n",
       "      <td>2024-01-28 03:00:00+00:00</td>\n",
       "      <td>S</td>\n",
       "      <td>1</td>\n",
       "      <td>1706403600</td>\n",
       "      <td>12.96416</td>\n",
       "    </tr>\n",
       "    <tr>\n",
       "      <th>3</th>\n",
       "      <td>2024-01-28 06:00:00+00:00</td>\n",
       "      <td>S</td>\n",
       "      <td>1</td>\n",
       "      <td>1706414400</td>\n",
       "      <td>12.07008</td>\n",
       "    </tr>\n",
       "    <tr>\n",
       "      <th>4</th>\n",
       "      <td>2024-01-28 09:00:00+00:00</td>\n",
       "      <td>S</td>\n",
       "      <td>1</td>\n",
       "      <td>1706425200</td>\n",
       "      <td>13.85824</td>\n",
       "    </tr>\n",
       "    <tr>\n",
       "      <th>...</th>\n",
       "      <td>...</td>\n",
       "      <td>...</td>\n",
       "      <td>...</td>\n",
       "      <td>...</td>\n",
       "      <td>...</td>\n",
       "    </tr>\n",
       "    <tr>\n",
       "      <th>698</th>\n",
       "      <td>2024-04-25 21:00:00+00:00</td>\n",
       "      <td>N</td>\n",
       "      <td>1</td>\n",
       "      <td>1714068000</td>\n",
       "      <td>4.91744</td>\n",
       "    </tr>\n",
       "    <tr>\n",
       "      <th>699</th>\n",
       "      <td>2024-04-26 00:00:00+00:00</td>\n",
       "      <td>NNE</td>\n",
       "      <td>1</td>\n",
       "      <td>1714078800</td>\n",
       "      <td>4.91744</td>\n",
       "    </tr>\n",
       "    <tr>\n",
       "      <th>700</th>\n",
       "      <td>2024-04-26 03:00:00+00:00</td>\n",
       "      <td>NE</td>\n",
       "      <td>1</td>\n",
       "      <td>1714089600</td>\n",
       "      <td>5.81152</td>\n",
       "    </tr>\n",
       "    <tr>\n",
       "      <th>701</th>\n",
       "      <td>2024-04-26 06:00:00+00:00</td>\n",
       "      <td>NNE</td>\n",
       "      <td>1</td>\n",
       "      <td>1714100400</td>\n",
       "      <td>4.02336</td>\n",
       "    </tr>\n",
       "    <tr>\n",
       "      <th>702</th>\n",
       "      <td>2024-04-26 09:00:00+00:00</td>\n",
       "      <td>ENE</td>\n",
       "      <td>1</td>\n",
       "      <td>1714111200</td>\n",
       "      <td>4.02336</td>\n",
       "    </tr>\n",
       "  </tbody>\n",
       "</table>\n",
       "<p>703 rows × 5 columns</p>\n",
       "</div>"
      ],
      "text/plain": [
       "                         time Direction Lead_hours  Source_time     Speed\n",
       "0   2024-01-27 12:00:00+00:00       WSW          1   1706349600  12.96416\n",
       "1   2024-01-27 15:00:00+00:00       WSW          1   1706360400  13.85824\n",
       "2   2024-01-28 03:00:00+00:00         S          1   1706403600  12.96416\n",
       "3   2024-01-28 06:00:00+00:00         S          1   1706414400  12.07008\n",
       "4   2024-01-28 09:00:00+00:00         S          1   1706425200  13.85824\n",
       "..                        ...       ...        ...          ...       ...\n",
       "698 2024-04-25 21:00:00+00:00         N          1   1714068000   4.91744\n",
       "699 2024-04-26 00:00:00+00:00       NNE          1   1714078800   4.91744\n",
       "700 2024-04-26 03:00:00+00:00        NE          1   1714089600   5.81152\n",
       "701 2024-04-26 06:00:00+00:00       NNE          1   1714100400   4.02336\n",
       "702 2024-04-26 09:00:00+00:00       ENE          1   1714111200   4.02336\n",
       "\n",
       "[703 rows x 5 columns]"
      ]
     },
     "execution_count": 7,
     "metadata": {},
     "output_type": "execute_result"
    }
   ],
   "source": [
    "# data taken every 3 hours\n",
    "wind_df.reset_index()"
   ]
  },
  {
   "cell_type": "code",
   "execution_count": 8,
   "metadata": {},
   "outputs": [],
   "source": [
    "# Saving power_df to CSV\n",
    "power_df.to_csv('power_data.csv', index=True)\n",
    "\n",
    "# Saving wind_df to CSV\n",
    "wind_df.to_csv('wind_data.csv', index=True)\n"
   ]
  },
  {
   "cell_type": "code",
   "execution_count": 9,
   "metadata": {},
   "outputs": [
    {
     "name": "stdout",
     "output_type": "stream",
     "text": [
      "                       time       ANM  Non-ANM      Total\n",
      "0 2024-01-27 11:53:00+00:00  8.482847   11.911  20.393847\n",
      "1 2024-01-27 11:54:00+00:00  8.415765   12.050  20.465765\n",
      "2 2024-01-27 11:55:00+00:00  8.315757   11.949  20.264757\n",
      "3 2024-01-27 11:56:00+00:00  8.330100   11.779  20.109100\n",
      "4 2024-01-27 11:57:00+00:00  8.322640   12.185  20.507640\n"
     ]
    }
   ],
   "source": [
    "power_df = power_df.reset_index()\n",
    "print(power_df.head())\n"
   ]
  },
  {
   "cell_type": "code",
   "execution_count": 10,
   "metadata": {},
   "outputs": [
    {
     "name": "stdout",
     "output_type": "stream",
     "text": [
      "                          Direction Lead_hours  Source_time     Speed  \\\n",
      "time                                                                    \n",
      "2024-01-27 12:00:00+00:00       WSW          1   1706349600  12.96416   \n",
      "2024-01-27 15:00:00+00:00       WSW          1   1706360400  13.85824   \n",
      "2024-01-28 03:00:00+00:00         S          1   1706403600  12.96416   \n",
      "2024-01-28 06:00:00+00:00         S          1   1706414400  12.07008   \n",
      "2024-01-28 09:00:00+00:00         S          1   1706425200  13.85824   \n",
      "\n",
      "                           Direction_Degrees  \n",
      "time                                          \n",
      "2024-01-27 12:00:00+00:00                247  \n",
      "2024-01-27 15:00:00+00:00                247  \n",
      "2024-01-28 03:00:00+00:00                180  \n",
      "2024-01-28 06:00:00+00:00                180  \n",
      "2024-01-28 09:00:00+00:00                180  \n"
     ]
    }
   ],
   "source": [
    "# Encoding the direction of the wnd into degrees\n",
    "direction_set = set(wind_df['Direction'])\n",
    "#print(direction_set)\n",
    "\n",
    "# Mapping dictionary from degrees from http://tamivox.org/dave/compass/\n",
    "direction_mapping = {\n",
    "    'N': 0,\n",
    "    'NNE': 23,\n",
    "    'NE': 45,\n",
    "    'ENE': 67,\n",
    "    'E': 90,\n",
    "    'ESE': 112,\n",
    "    'SE': 135,\n",
    "    'SSE': 152,\n",
    "    'S': 180,\n",
    "    'SSW': 202,\n",
    "    'SW': 225,\n",
    "    'WSW': 247,\n",
    "    'W': 270,\n",
    "    'WNW': 293,\n",
    "    'NW': 315,\n",
    "    'NNW': 337\n",
    "}\n",
    "\n",
    "# Convert direction strings to numerical values\n",
    "wind_df['Direction_Degrees'] = wind_df['Direction'].map(direction_mapping)\n",
    "print(wind_df.head())\n"
   ]
  },
  {
   "cell_type": "code",
   "execution_count": 11,
   "metadata": {},
   "outputs": [
    {
     "name": "stdout",
     "output_type": "stream",
     "text": [
      "                       time Direction Lead_hours  Source_time     Speed  \\\n",
      "0 2024-01-27 12:00:00+00:00       WSW          1   1706349600  12.96416   \n",
      "1 2024-01-27 15:00:00+00:00       WSW          1   1706360400  13.85824   \n",
      "2 2024-01-28 03:00:00+00:00         S          1   1706403600  12.96416   \n",
      "3 2024-01-28 06:00:00+00:00         S          1   1706414400  12.07008   \n",
      "4 2024-01-28 09:00:00+00:00         S          1   1706425200  13.85824   \n",
      "\n",
      "   Direction_Degrees  \n",
      "0                247  \n",
      "1                247  \n",
      "2                180  \n",
      "3                180  \n",
      "4                180  \n"
     ]
    }
   ],
   "source": [
    "wind_df = wind_df.reset_index()\n",
    "print(wind_df.head())"
   ]
  },
  {
   "cell_type": "markdown",
   "metadata": {},
   "source": []
  },
  {
   "cell_type": "code",
   "execution_count": null,
   "metadata": {},
   "outputs": [],
   "source": []
  },
  {
   "cell_type": "code",
   "execution_count": 12,
   "metadata": {},
   "outputs": [
    {
     "name": "stdout",
     "output_type": "stream",
     "text": [
      "time                 2024-01-27 15:34:00+00:00\n",
      "ANM                                   3.753769\n",
      "Non-ANM                                 14.386\n",
      "Total                                18.139769\n",
      "Direction                                  NaN\n",
      "Lead_hours                                 NaN\n",
      "Source_time                                NaN\n",
      "Speed                                      NaN\n",
      "Direction_Degrees                          NaN\n",
      "Name: 199, dtype: object\n"
     ]
    }
   ],
   "source": [
    "merged = pd.merge(power_df, wind_df, on = \"time\", how='left')\n",
    "row_200 = merged.iloc[199]\n",
    "print(row_200)"
   ]
  },
  {
   "cell_type": "code",
   "execution_count": 13,
   "metadata": {},
   "outputs": [],
   "source": [
    "\n",
    "# Dropping the non needed columns \n",
    "\n",
    "columns_to_remove = ['time','ANM','Non-ANM','Direction', 'Lead_hours', 'Source_time']\n",
    "merged.drop(columns=columns_to_remove, inplace=True)\n"
   ]
  },
  {
   "cell_type": "code",
   "execution_count": 14,
   "metadata": {},
   "outputs": [
    {
     "data": {
      "text/plain": [
       "<bound method NDFrame.head of            Total  Speed  Direction_Degrees\n",
       "0      20.393847    NaN                NaN\n",
       "1      20.465765    NaN                NaN\n",
       "2      20.264757    NaN                NaN\n",
       "3      20.109100    NaN                NaN\n",
       "4      20.507640    NaN                NaN\n",
       "...          ...    ...                ...\n",
       "82044   1.250540    NaN                NaN\n",
       "82045   1.237995    NaN                NaN\n",
       "82046   1.191319    NaN                NaN\n",
       "82047   1.182432    NaN                NaN\n",
       "82048   1.249819    NaN                NaN\n",
       "\n",
       "[82049 rows x 3 columns]>"
      ]
     },
     "execution_count": 14,
     "metadata": {},
     "output_type": "execute_result"
    }
   ],
   "source": [
    "merged.shape\n",
    "merged.head"
   ]
  },
  {
   "cell_type": "code",
   "execution_count": 15,
   "metadata": {},
   "outputs": [
    {
     "data": {
      "image/png": "[encoded data removed]",
      "text/plain": [
       "<Figure size 640x480 with 1 Axes>"
      ]
     },
     "metadata": {},
     "output_type": "display_data"
    }
   ],
   "source": [
    "plt.hist(merged['Direction_Degrees'], bins=40, color='skyblue', edgecolor='black')\n",
    "\n",
    "# Add labels and title\n",
    "plt.xlabel('Direction Degrees')\n",
    "plt.ylabel('Frequency')\n",
    "plt.title('Histogram of Direction Degrees')\n",
    "\n",
    "# Show the plot\n",
    "plt.show()"
   ]
  },
  {
   "cell_type": "code",
   "execution_count": null,
   "metadata": {},
   "outputs": [],
   "source": []
  },
  {
   "cell_type": "code",
   "execution_count": 16,
   "metadata": {},
   "outputs": [
    {
     "data": {
      "image/png": "[encoded data removed]",
      "text/plain": [
       "<Figure size 640x480 with 1 Axes>"
      ]
     },
     "metadata": {},
     "output_type": "display_data"
    }
   ],
   "source": [
    "plt.scatter(merged['Direction_Degrees'],merged['Speed'])\n",
    "plt.xlabel('Direction Degrees')\n",
    "plt.ylabel(' Speed')\n",
    "plt.title('Direction Degrees vs. Wind Speed')\n",
    "plt.show()\n"
   ]
  },
  {
   "cell_type": "code",
   "execution_count": 17,
   "metadata": {},
   "outputs": [],
   "source": [
    "newdf = merged.interpolate(method='bfill')\n",
    "#newdf.head()"
   ]
  },
  {
   "cell_type": "code",
   "execution_count": 18,
   "metadata": {},
   "outputs": [],
   "source": [
    "newdf.to_csv('full_data.csv')\n"
   ]
  },
  {
   "cell_type": "code",
   "execution_count": null,
   "metadata": {},
   "outputs": [],
   "source": []
  },
  {
   "cell_type": "code",
   "execution_count": 19,
   "metadata": {},
   "outputs": [
    {
     "data": {
      "image/png": "[encoded data removed]",
      "text/plain": [
       "<Figure size 640x480 with 1 Axes>"
      ]
     },
     "metadata": {},
     "output_type": "display_data"
    }
   ],
   "source": [
    "\n",
    "\n",
    "# Plotting mean_total against speed\n",
    "plt.scatter(newdf['Speed'], newdf['Total'])\n",
    "plt.xlabel('Speed')\n",
    "plt.ylabel(' Total Power')\n",
    "plt.title('Total Power vs. Wind Speed')\n",
    "plt.show()\n"
   ]
  },
  {
   "cell_type": "code",
   "execution_count": 20,
   "metadata": {},
   "outputs": [
    {
     "data": {
      "image/png": "[encoded data removed]",
      "text/plain": [
       "<Figure size 500x400 with 2 Axes>"
      ]
     },
     "metadata": {},
     "output_type": "display_data"
    }
   ],
   "source": [
    "import seaborn as sns\n",
    "import matplotlib.pyplot as plt\n",
    "\n",
    "plt.figure(figsize=(5, 4))\n",
    "sns.heatmap(newdf.corr(), cmap=\"coolwarm\", annot=True, fmt=\".2f\")\n",
    "plt.title(\"Correlation Heatmap\")\n",
    "plt.show()\n"
   ]
  },
  {
   "cell_type": "markdown",
   "metadata": {},
   "source": [
    "## EDA"
   ]
  },
  {
   "cell_type": "code",
   "execution_count": 21,
   "metadata": {},
   "outputs": [
    {
     "data": {
      "image/png": "[encoded data removed]",
      "text/plain": [
       "<Figure size 2500x400 with 3 Axes>"
      ]
     },
     "metadata": {},
     "output_type": "display_data"
    }
   ],
   "source": [
    "# Subplots\n",
    "fig, ax = plt.subplots(1,3, figsize=(25,4))\n",
    "\n",
    "# Speed and Power for the last 7 days\n",
    "ax[0].plot(newdf[\"Speed\"].tail(int(7*24/3)), label=\"Speed\", color=\"blue\") # Since the datasets are joined every three hours, we need the last 7 days times 24 hours diveded by 3 hours\n",
    "ax[0].plot(newdf[\"Total\"].tail(int(7*24/3)), label=\"Power\", color=\"tab:red\") # Since the datasets are joined every three hours, we need the last 7 days times 24 hours diveded by 3 hours\n",
    "ax[0].set_title(\"Windspeed & Power Generation over last 7 days\")\n",
    "ax[0].set_xlabel(\"Time\")\n",
    "ax[0].tick_params(axis='x', labelrotation = 45)\n",
    "ax[0].set_ylabel(\"Windspeed [m/s], Power [MW]\")\n",
    "ax[0].legend()\n",
    "\n",
    "# Speed vs Total (Power Curve nature)\n",
    "ax[1].scatter(newdf[\"Speed\"], newdf[\"Total\"])\n",
    "power_curve = newdf.groupby(\"Speed\").median(numeric_only=True)[\"Total\"]\n",
    "ax[1].plot(power_curve.index, power_curve.values, \"k:\", label=\"Power Curve\")\n",
    "ax[1].legend()\n",
    "ax[1].set_title(\"Windspeed vs Power\")\n",
    "ax[1].set_ylabel(\"Power [MW]\")\n",
    "ax[1].set_xlabel(\"Windspeed [m/s]\")\n",
    "\n",
    "# Speed and Power per Wind Direction\n",
    "wind_grouped_by_direction = newdf.groupby(\"Direction_Degrees\").mean(numeric_only=True).reset_index()\n",
    "bar_width = 0.5\n",
    "x = np.arange(len(wind_grouped_by_direction.index))\n",
    "\n",
    "ax[2].bar(x, wind_grouped_by_direction.Total, width=0.5, label=\"Power\", color=\"tab:red\")\n",
    "ax[2].bar(x + bar_width, wind_grouped_by_direction.Total, width=0.5, label=\"Speed\", color=\"blue\")\n",
    "ax[2].legend()\n",
    "ax[2].set_xticks(x)\n",
    "ax[2].set_xticklabels(wind_grouped_by_direction.Direction_Degrees)\n",
    "ax[2].tick_params(axis='x', labelrotation = 45)\n",
    "ax[2].set_title(\"Speed and Power per Direction\");"
   ]
  },
  {
   "cell_type": "code",
   "execution_count": 22,
   "metadata": {},
   "outputs": [
    {
     "data": {
      "text/plain": [
       "(82049, 3)"
      ]
     },
     "execution_count": 22,
     "metadata": {},
     "output_type": "execute_result"
    }
   ],
   "source": [
    "newdf.shape"
   ]
  },
  {
   "cell_type": "code",
   "execution_count": 23,
   "metadata": {},
   "outputs": [
    {
     "data": {
      "text/html": [
       "<div>\n",
       "<style scoped>\n",
       "    .dataframe tbody tr th:only-of-type {\n",
       "        vertical-align: middle;\n",
       "    }\n",
       "\n",
       "    .dataframe tbody tr th {\n",
       "        vertical-align: top;\n",
       "    }\n",
       "\n",
       "    .dataframe thead th {\n",
       "        text-align: right;\n",
       "    }\n",
       "</style>\n",
       "<table border=\"1\" class=\"dataframe\">\n",
       "  <thead>\n",
       "    <tr style=\"text-align: right;\">\n",
       "      <th></th>\n",
       "      <th>Total</th>\n",
       "    </tr>\n",
       "  </thead>\n",
       "  <tbody>\n",
       "    <tr>\n",
       "      <th>0</th>\n",
       "      <td>20.393847</td>\n",
       "    </tr>\n",
       "    <tr>\n",
       "      <th>1</th>\n",
       "      <td>20.465765</td>\n",
       "    </tr>\n",
       "    <tr>\n",
       "      <th>2</th>\n",
       "      <td>20.264757</td>\n",
       "    </tr>\n",
       "    <tr>\n",
       "      <th>3</th>\n",
       "      <td>20.109100</td>\n",
       "    </tr>\n",
       "    <tr>\n",
       "      <th>4</th>\n",
       "      <td>20.507640</td>\n",
       "    </tr>\n",
       "    <tr>\n",
       "      <th>...</th>\n",
       "      <td>...</td>\n",
       "    </tr>\n",
       "    <tr>\n",
       "      <th>82044</th>\n",
       "      <td>1.250540</td>\n",
       "    </tr>\n",
       "    <tr>\n",
       "      <th>82045</th>\n",
       "      <td>1.237995</td>\n",
       "    </tr>\n",
       "    <tr>\n",
       "      <th>82046</th>\n",
       "      <td>1.191319</td>\n",
       "    </tr>\n",
       "    <tr>\n",
       "      <th>82047</th>\n",
       "      <td>1.182432</td>\n",
       "    </tr>\n",
       "    <tr>\n",
       "      <th>82048</th>\n",
       "      <td>1.249819</td>\n",
       "    </tr>\n",
       "  </tbody>\n",
       "</table>\n",
       "<p>82049 rows × 1 columns</p>\n",
       "</div>"
      ],
      "text/plain": [
       "           Total\n",
       "0      20.393847\n",
       "1      20.465765\n",
       "2      20.264757\n",
       "3      20.109100\n",
       "4      20.507640\n",
       "...          ...\n",
       "82044   1.250540\n",
       "82045   1.237995\n",
       "82046   1.191319\n",
       "82047   1.182432\n",
       "82048   1.249819\n",
       "\n",
       "[82049 rows x 1 columns]"
      ]
     },
     "execution_count": 23,
     "metadata": {},
     "output_type": "execute_result"
    }
   ],
   "source": [
    "newdf.dropna(how='all')\n",
    "newdf.dropna(axis='columns')"
   ]
  },
  {
   "cell_type": "code",
   "execution_count": 24,
   "metadata": {},
   "outputs": [
    {
     "name": "stdout",
     "output_type": "stream",
     "text": [
      "Total                  0\n",
      "Speed                172\n",
      "Direction_Degrees    172\n",
      "dtype: int64\n"
     ]
    }
   ],
   "source": [
    "# Count NA values in each column\n",
    "na_counts = newdf.isna().sum()\n",
    "\n",
    "# Print the result\n",
    "print(na_counts)"
   ]
  },
  {
   "cell_type": "code",
   "execution_count": 25,
   "metadata": {},
   "outputs": [
    {
     "data": {
      "text/plain": [
       "(82049, 3)"
      ]
     },
     "execution_count": 25,
     "metadata": {},
     "output_type": "execute_result"
    }
   ],
   "source": [
    "newdf.shape"
   ]
  },
  {
   "cell_type": "code",
   "execution_count": 26,
   "metadata": {},
   "outputs": [],
   "source": [
    "df_cleaned = newdf.dropna()"
   ]
  },
  {
   "cell_type": "code",
   "execution_count": 27,
   "metadata": {},
   "outputs": [
    {
     "data": {
      "text/html": [
       "<div>\n",
       "<style scoped>\n",
       "    .dataframe tbody tr th:only-of-type {\n",
       "        vertical-align: middle;\n",
       "    }\n",
       "\n",
       "    .dataframe tbody tr th {\n",
       "        vertical-align: top;\n",
       "    }\n",
       "\n",
       "    .dataframe thead th {\n",
       "        text-align: right;\n",
       "    }\n",
       "</style>\n",
       "<table border=\"1\" class=\"dataframe\">\n",
       "  <thead>\n",
       "    <tr style=\"text-align: right;\">\n",
       "      <th></th>\n",
       "      <th>Total</th>\n",
       "      <th>Speed</th>\n",
       "      <th>Direction_Degrees</th>\n",
       "    </tr>\n",
       "  </thead>\n",
       "  <tbody>\n",
       "    <tr>\n",
       "      <th>0</th>\n",
       "      <td>20.393847</td>\n",
       "      <td>12.96416</td>\n",
       "      <td>247.0</td>\n",
       "    </tr>\n",
       "    <tr>\n",
       "      <th>1</th>\n",
       "      <td>20.465765</td>\n",
       "      <td>12.96416</td>\n",
       "      <td>247.0</td>\n",
       "    </tr>\n",
       "    <tr>\n",
       "      <th>2</th>\n",
       "      <td>20.264757</td>\n",
       "      <td>12.96416</td>\n",
       "      <td>247.0</td>\n",
       "    </tr>\n",
       "    <tr>\n",
       "      <th>3</th>\n",
       "      <td>20.109100</td>\n",
       "      <td>12.96416</td>\n",
       "      <td>247.0</td>\n",
       "    </tr>\n",
       "    <tr>\n",
       "      <th>4</th>\n",
       "      <td>20.507640</td>\n",
       "      <td>12.96416</td>\n",
       "      <td>247.0</td>\n",
       "    </tr>\n",
       "  </tbody>\n",
       "</table>\n",
       "</div>"
      ],
      "text/plain": [
       "       Total     Speed  Direction_Degrees\n",
       "0  20.393847  12.96416              247.0\n",
       "1  20.465765  12.96416              247.0\n",
       "2  20.264757  12.96416              247.0\n",
       "3  20.109100  12.96416              247.0\n",
       "4  20.507640  12.96416              247.0"
      ]
     },
     "execution_count": 27,
     "metadata": {},
     "output_type": "execute_result"
    }
   ],
   "source": [
    "df_cleaned.shape\n",
    "df_cleaned.head()"
   ]
  },
  {
   "cell_type": "markdown",
   "metadata": {},
   "source": [
    "## Step 2 Pipeline and data transformations"
   ]
  },
  {
   "cell_type": "markdown",
   "metadata": {},
   "source": []
  },
  {
   "cell_type": "code",
   "execution_count": 28,
   "metadata": {},
   "outputs": [],
   "source": [
    "# A very basic pipeline\n",
    "pipeline_example = Pipeline([\n",
    "    # Transformations\n",
    "    (\"Scaler\", StandardScaler()),\n",
    "    # Estimator\n",
    "    (\"Linear Regression\", LinearRegression())\n",
    "])"
   ]
  },
  {
   "cell_type": "markdown",
   "metadata": {},
   "source": [
    "## Evaluate the models"
   ]
  },
  {
   "cell_type": "code",
   "execution_count": 29,
   "metadata": {},
   "outputs": [
    {
     "name": "stdout",
     "output_type": "stream",
     "text": [
      "Mean Absolute Error on Dev Set: 5.167794328553377\n",
      "Mean Absolute Error on Test Set: 5.160063290931588\n"
     ]
    }
   ],
   "source": [
    "from sklearn.model_selection import train_test_split\n",
    "\n",
    "# Select our feature variables and our target variable.\n",
    "X = df_cleaned[\"Speed\"].values.reshape(-1, 1)\n",
    "y = df_cleaned[\"Total\"].values.reshape(-1, 1)\n",
    "\n",
    "# Split the data into train, dev, and test sets\n",
    "X_train_dev, X_test, y_train_dev, y_test = train_test_split(\n",
    "    X, y, test_size=0.2, random_state=42\n",
    ") \n",
    "\n",
    "X_train, X_dev, y_train, y_dev = train_test_split(\n",
    "    X_train_dev, y_train_dev, test_size=0.25, random_state=42\n",
    ")\n",
    "\n",
    "# Train our model\n",
    "pipeline_example.fit(X_train, y_train)\n",
    "\n",
    "# Evaluate the model, using MAE as a metric on the dev set\n",
    "mae_dev = mean_absolute_error(pipeline_example.predict(X_dev), y_dev)\n",
    "print(\"Mean Absolute Error on Dev Set:\", mae_dev)\n",
    "\n",
    "# Evaluate the model on the test set\n",
    "mae_test = mean_absolute_error(pipeline_example.predict(X_test), y_test)\n",
    "print(\"Mean Absolute Error on Test Set:\", mae_test)\n"
   ]
  },
  {
   "cell_type": "code",
   "execution_count": 30,
   "metadata": {},
   "outputs": [
    {
     "name": "stderr",
     "output_type": "stream",
     "text": [
      "c:\\Users\\45911\\AppData\\Local\\Programs\\Python\\Python311\\Lib\\site-packages\\_distutils_hack\\__init__.py:33: UserWarning: Setuptools is replacing distutils.\n",
      "  warnings.warn(\"Setuptools is replacing distutils.\")\n"
     ]
    }
   ],
   "source": [
    "import mlflow\n",
    "from sklearn.pipeline import Pipeline\n",
    "from sklearn.preprocessing import StandardScaler\n",
    "from sklearn.linear_model import LinearRegression\n",
    "from sklearn.model_selection import train_test_split\n",
    "from sklearn.metrics import mean_absolute_error\n",
    "\n",
    "\n",
    "# Start MLflow run\n",
    "with mlflow.start_run(run_name=\"Lin_regre_1feature_Speed\") as run:\n",
    "\n",
    "    # Define your pipeline\n",
    "    pipeline_example = Pipeline([\n",
    "        # Transformations\n",
    "        (\"Scaler\", StandardScaler()),\n",
    "        # Estimator\n",
    "        (\"Linear Regression\", LinearRegression())\n",
    "    ])\n",
    "\n",
    "    # Select our feature variables and our target variable.\n",
    "    X = df_cleaned[\"Speed\"].values.reshape(-1,1)\n",
    "    y = df_cleaned[\"Total\"].values.reshape(-1,1)\n",
    "\n",
    " \n",
    "    # Train our model on the train set\n",
    "    pipeline_example.fit(X_train, y_train)\n",
    "\n",
    "    # Evaluate the model on the dev set, using MAE as a metric\n",
    "    mae_dev = mean_absolute_error(pipeline_example.predict(X_dev), y_dev)\n",
    "\n",
    "    # Log parameters\n",
    "    mlflow.log_param(\"model\", \"Linear Regression\")\n",
    "    mlflow.log_param(\"feature\", \"Speed\")\n",
    "\n",
    "    # Log metrics\n",
    "    mlflow.log_metric(\"MAE on Dev Set\", mae_dev)\n",
    "\n",
    "    # Log the trained model as an artifact\n",
    "    mlflow.sklearn.log_model(pipeline_example, \"model\")\n"
   ]
  },
  {
   "cell_type": "code",
   "execution_count": 31,
   "metadata": {},
   "outputs": [],
   "source": [
    "\n",
    "\n",
    "# Start MLflow run\n",
    "with mlflow.start_run(run_name=\"Lin_regre_1feature_Direction\") as run:\n",
    "\n",
    "    # Define your pipeline\n",
    "    pipeline_example = Pipeline([\n",
    "        # Transformations\n",
    "        (\"Scaler\", StandardScaler()),\n",
    "        # Estimator\n",
    "        (\"Linear Regression\", LinearRegression())\n",
    "    ])\n",
    "\n",
    "    # Select our feature variables and our target variable.\n",
    "    X = df_cleaned[\"Direction_Degrees\"].values.reshape(-1,1)\n",
    "    y = df_cleaned[\"Total\"].values.reshape(-1,1)\n",
    "\n",
    "\n",
    "    # Train our model on the train set\n",
    "    pipeline_example.fit(X_train, y_train)\n",
    "\n",
    "    # Evaluate the model on the dev set, using MAE as a metric\n",
    "    mae_dev = mean_absolute_error(pipeline_example.predict(X_dev), y_dev)\n",
    "\n",
    "    # Log parameters\n",
    "    mlflow.log_param(\"model\", \"Linear Regression\")\n",
    "    mlflow.log_param(\"feature\", \"Direction\")\n",
    "\n",
    "    # Log metrics\n",
    "    mlflow.log_metric(\"MAE on Dev Set\", mae_dev)\n",
    "\n",
    "    # Log the trained model as an artifact\n",
    "    mlflow.sklearn.log_model(pipeline_example, \"model\")\n"
   ]
  },
  {
   "cell_type": "code",
   "execution_count": 32,
   "metadata": {},
   "outputs": [
    {
     "name": "stdout",
     "output_type": "stream",
     "text": [
      "MAE (LR with 2 features) on Dev Set: 5.167794328553377\n",
      "MLflow Run ID (LR with 2 features): 7bfc40d3936a439e8c0143f210881582\n"
     ]
    }
   ],
   "source": [
    "\n",
    "\n",
    "# Select our feature variables and our target variable.\n",
    "X = df_cleaned[[\"Speed\", \"Direction_Degrees\"]]\n",
    "y = df_cleaned[\"Total\"]\n",
    "\n",
    "\n",
    "# Start MLflow run for Linear Regression model with 2 features\n",
    "with mlflow.start_run(run_name=\"Lin_reg_2features\") as run_lr_2_features:\n",
    "\n",
    "    # Define your pipeline for Linear Regression with 2 features\n",
    "    pipeline_lr_2_features = Pipeline([\n",
    "        # Transformations\n",
    "        (\"Scaler\", StandardScaler()),\n",
    "        # Estimator\n",
    "        (\"Linear Regression\", LinearRegression())\n",
    "    ])\n",
    "\n",
    "    # Train the Linear Regression model with 2 features on the train set\n",
    "    pipeline_lr_2_features.fit(X_train, y_train)\n",
    "\n",
    "    # Evaluate the model on the dev set, using MAE as a metric\n",
    "    mae_lr_2_features_dev = mean_absolute_error(pipeline_lr_2_features.predict(X_dev), y_dev)\n",
    "\n",
    "    # Log parameters for Linear Regression model with 2 features\n",
    "    mlflow.log_param(\"model\", \"Linear Regression\")\n",
    "    mlflow.log_param(\"features\", \"Speed, Direction_Degrees\")\n",
    "\n",
    "    # Log metrics for Linear Regression model with 2 features\n",
    "    mlflow.log_metric(\"MAE on Dev Set\", mae_lr_2_features_dev)\n",
    "\n",
    "    # Log the trained model as an artifact\n",
    "    mlflow.sklearn.log_model(pipeline_lr_2_features, \"lr_2_features_model\")\n",
    "\n",
    "    # Print MAE for Linear Regression model with 2 features\n",
    "    print(\"MAE (LR with 2 features) on Dev Set:\", mae_lr_2_features_dev)\n",
    "\n",
    "    # Retrieve the MLflow run ID for Linear Regression model with 2 features\n",
    "    run_id_lr_2_features = run_lr_2_features.info.run_id\n",
    "    print(\"MLflow Run ID (LR with 2 features):\", run_id_lr_2_features)\n"
   ]
  },
  {
   "cell_type": "code",
   "execution_count": 33,
   "metadata": {},
   "outputs": [
    {
     "name": "stdout",
     "output_type": "stream",
     "text": [
      "MAE (KNN) on Dev Set: 3.800509175403029\n",
      "MLflow Run ID (KNN): 4bae0e15e72f4185ad57445b2194087b\n"
     ]
    }
   ],
   "source": [
    "from sklearn.neighbors import KNeighborsRegressor\n",
    "\n",
    "\n",
    "with mlflow.start_run(run_name=\"KNN_Model\") as run_knn:\n",
    "\n",
    "    # Define your pipeline for KNN\n",
    "    pipeline_knn = Pipeline([\n",
    "        # Transformations (if necessary)\n",
    "        (\"Scaler\", StandardScaler()),  # Scale features for better performance of KNN\n",
    "        # Estimator\n",
    "        (\"KNN\", KNeighborsRegressor())  # Initialize KNN model\n",
    "    ])\n",
    "\n",
    "    # Train the KNN model on the train set\n",
    "    pipeline_knn.fit(X_train, y_train)\n",
    "\n",
    "    # Evaluate the model on the dev set, using MAE as a metric\n",
    "    mae_knn_dev = mean_absolute_error(pipeline_knn.predict(X_dev), y_dev)\n",
    "\n",
    "    # Log parameters for KNN model\n",
    "    mlflow.log_param(\"model\", \"K-Nearest Neighbors\")\n",
    "    mlflow.log_param(\"feature\", \"Speed, Direction_Degrees\")\n",
    "\n",
    "    # Log metrics for KNN model\n",
    "    mlflow.log_metric(\"MAE on Dev Set\", mae_knn_dev)\n",
    "\n",
    "    # Log the trained model as an artifact\n",
    "    mlflow.sklearn.log_model(pipeline_knn, \"knn_model\")\n",
    "\n",
    "    # Print MAE for KNN model on the dev set\n",
    "    print(\"MAE (KNN) on Dev Set:\", mae_knn_dev)\n",
    "\n",
    "    # Retrieve the MLflow run ID for KNN model\n",
    "    run_id_knn = run_knn.info.run_id\n",
    "    print(\"MLflow Run ID (KNN):\", run_id_knn)\n"
   ]
  },
  {
   "cell_type": "code",
   "execution_count": 34,
   "metadata": {},
   "outputs": [
    {
     "name": "stdout",
     "output_type": "stream",
     "text": [
      "MAE (Random Forest) on Dev Set: 2.659695366934548\n",
      "MLflow Run ID (Random Forest): 8a5a138b00ef4fb5a07627c7361eca13\n"
     ]
    }
   ],
   "source": [
    "from sklearn.ensemble import RandomForestRegressor\n",
    "\n",
    "\n",
    "# Select our feature variables and our target variable.\n",
    "X = df_cleaned[[\"Speed\", \"Direction_Degrees\"]]\n",
    "y = df_cleaned[\"Total\"]\n",
    "\n",
    "# Start MLflow run for Random Forest model with a specific run name\n",
    "with mlflow.start_run(run_name=\"RandomForest_Model\") as run_rf:\n",
    "\n",
    "    # Define your pipeline for Random Forest\n",
    "    pipeline_rf = Pipeline([\n",
    "        # Transformations (if necessary)\n",
    "        (\"Scaler\", StandardScaler()),  # Scale features for better performance\n",
    "        # Estimator\n",
    "        (\"RandomForest\", RandomForestRegressor())  # Initialize Random Forest model\n",
    "    ])\n",
    "\n",
    "    # Split the data into train, dev, and test sets\n",
    "    X_train_dev, X_test, y_train_dev, y_test = train_test_split(X, y, test_size=0.2, random_state=42)  # Splitting into 80% train/dev and 20% test\n",
    "    X_train, X_dev, y_train, y_dev = train_test_split(X_train_dev, y_train_dev, test_size=0.25, random_state=42)  # Splitting train/dev into 60% train and 20% dev\n",
    "\n",
    "    # Train the Random Forest model on the train set\n",
    "    pipeline_rf.fit(X_train, y_train)\n",
    "\n",
    "    # Evaluate the model on the dev set, using MAE as a metric\n",
    "    mae_rf_dev = mean_absolute_error(pipeline_rf.predict(X_dev), y_dev)\n",
    "\n",
    "    # Log parameters for Random Forest model\n",
    "    mlflow.log_param(\"model\", \"Random Forest\")\n",
    "    mlflow.log_param(\"feature\", \"Speed, Direction_Degrees\")\n",
    "\n",
    "    # Log metrics for Random Forest model\n",
    "    mlflow.log_metric(\"MAE on Dev Set\", mae_rf_dev)\n",
    "\n",
    "    # Log the trained model as an artifact\n",
    "    mlflow.sklearn.log_model(pipeline_rf, \"random_forest_model\")\n",
    "\n",
    "    # Print MAE for Random Forest model on the dev set\n",
    "    print(\"MAE (Random Forest) on Dev Set:\", mae_rf_dev)\n",
    "\n",
    "    # Retrieve the MLflow run ID for Random Forest model\n",
    "    run_id_rf = run_rf.info.run_id\n",
    "    print(\"MLflow Run ID (Random Forest):\", run_id_rf)\n"
   ]
  },
  {
   "cell_type": "code",
   "execution_count": 35,
   "metadata": {},
   "outputs": [],
   "source": [
    "import pickle\n",
    "# Save the trained model as a pickle file\n",
    "with open(\"random_forest_model.pkl\", \"wb\") as f:\n",
    "    pickle.dump(pipeline_rf, f)\n",
    "\n"
   ]
  },
  {
   "cell_type": "code",
   "execution_count": 36,
   "metadata": {},
   "outputs": [],
   "source": [
    "# Load the trained model from the pickle file\n",
    "with open(\"random_forest_model.pkl\", \"rb\") as f:\n",
    "    loaded_model1 = pickle.load(f)"
   ]
  },
  {
   "cell_type": "code",
   "execution_count": 37,
   "metadata": {},
   "outputs": [
    {
     "name": "stdout",
     "output_type": "stream",
     "text": [
      "MAE on Test Set: 2.6737918896018327\n"
     ]
    }
   ],
   "source": [
    "# Use the loaded model to make predictions on the test data\n",
    "predictions = loaded_model1.predict(X_test)\n",
    "\n",
    "# Evaluate the predictions using mean absolute error (MAE)\n",
    "mae_test = mean_absolute_error(predictions, y_test)\n",
    "\n",
    "print(\"MAE on Test Set:\", mae_test)"
   ]
  },
  {
   "cell_type": "code",
   "execution_count": 38,
   "metadata": {},
   "outputs": [
    {
     "name": "stdout",
     "output_type": "stream",
     "text": [
      "Fitting 5 folds for each of 162 candidates, totalling 810 fits\n",
      "Best Parameters: {'max_depth': None, 'max_features': 'sqrt', 'min_samples_leaf': 1, 'min_samples_split': 10, 'n_estimators': 150}\n",
      "Best Negative MAE: 2.6769525559107343\n"
     ]
    }
   ],
   "source": [
    "from sklearn.model_selection import GridSearchCV\n",
    "\n",
    "# Define the parameters\n",
    "param_grid = {\n",
    "    'n_estimators': [50, 100, 150],  # Number of trees in the forest\n",
    "    'max_depth': [None, 10, 20],  # Maximum depth of each tree\n",
    "    'min_samples_split': [2, 5, 10],  # Minimum number of samples required to split an internal node\n",
    "    'min_samples_leaf': [1, 2, 4],  # Minimum number of samples required to be at a leaf node\n",
    "    'max_features': ['auto', 'sqrt'],  # Number of features to consider when looking for the best split\n",
    "}\n",
    "\n",
    "# Create the GridSearchCV object\n",
    "grid_search = GridSearchCV(estimator=RandomForestRegressor(random_state=42),\n",
    "                           param_grid=param_grid,\n",
    "                           scoring='neg_mean_absolute_error',  # Use MAE as the scoring metric\n",
    "                           cv=5,  # 5-fold cross-validation\n",
    "                           verbose=2,  # Increase verbosity to see progress\n",
    "                           n_jobs=-1)  # Use all available CPU cores\n",
    "\n",
    "# Perform grid search on the dev data\n",
    "grid_search.fit(X_dev, y_dev)\n",
    "\n",
    "# Get the best parameters and best score\n",
    "best_params = grid_search.best_params_\n",
    "best_score = -grid_search.best_score_\n",
    "\n",
    "print(\"Best Parameters:\", best_params)\n",
    "print(\"Best Negative MAE:\", best_score)\n"
   ]
  },
  {
   "cell_type": "code",
   "execution_count": 39,
   "metadata": {},
   "outputs": [
    {
     "name": "stderr",
     "output_type": "stream",
     "text": [
      "c:\\Users\\45911\\AppData\\Local\\Programs\\Python\\Python311\\Lib\\site-packages\\sklearn\\ensemble\\_forest.py:413: FutureWarning: `max_features='auto'` has been deprecated in 1.1 and will be removed in 1.3. To keep the past behaviour, explicitly set `max_features=1.0` or remove this parameter as it is also the default value for RandomForestRegressors and ExtraTreesRegressors.\n",
      "  warn(\n"
     ]
    },
    {
     "name": "stdout",
     "output_type": "stream",
     "text": [
      "MAE (Random Forest) on Dev Set: 2.673561970562075\n",
      "MLflow Run ID (Random Forest): 1a1adbb5c2744b038fcfe5f641405a19\n"
     ]
    }
   ],
   "source": [
    "\n",
    "\n",
    "# Select our feature variables and our target variable.\n",
    "X = df_cleaned[[\"Speed\", \"Direction_Degrees\"]]\n",
    "y = df_cleaned[\"Total\"]\n",
    "\n",
    "# Define the best parameters found during grid search\n",
    "best_params = {\n",
    "    'n_estimators': 100,    'max_depth': 10,    'min_samples_split': 2,\n",
    "    'min_samples_leaf': 1,\n",
    "    'max_features': 'auto'\n",
    "}\n",
    "\n",
    "# Start MLflow run for Random Forest model with a specific run name\n",
    "with mlflow.start_run(run_name=\"RandomForest_Model_Tuned\") as run_rf:\n",
    "\n",
    "    # Define your pipeline for Random Forest with the best parameters\n",
    "    pipeline_rf = Pipeline([\n",
    "        # Transformations (if necessary)\n",
    "        (\"Scaler\", StandardScaler()),  # Scale features for better performance\n",
    "        # Estimator\n",
    "        (\"RandomForest\", RandomForestRegressor(**best_params))  # Initialize Random Forest model with best parameters\n",
    "    ])\n",
    "\n",
    "    # Split the data into train, dev, and test sets\n",
    "    X_train_dev, X_test, y_train_dev, y_test = train_test_split(X, y, test_size=0.2, random_state=42)  # Splitting into 80% train/dev and 20% test\n",
    "    X_train, X_dev, y_train, y_dev = train_test_split(X_train_dev, y_train_dev, test_size=0.25, random_state=42)  # Splitting train/dev into 60% train and 20% dev\n",
    "\n",
    "    # Train the Random Forest model on the train set\n",
    "    pipeline_rf.fit(X_train, y_train)\n",
    "\n",
    "    # Evaluate the model on the dev set, using MAE as a metric\n",
    "    mae_rf_dev = mean_absolute_error(pipeline_rf.predict(X_dev), y_dev)\n",
    "\n",
    "    # Log parameters for Random Forest model\n",
    "    mlflow.log_param(\"model\", \"Random Forest\")\n",
    "    mlflow.log_param(\"feature\", \"Speed, Direction_Degrees\")\n",
    "\n",
    "    # Log metrics for Random Forest model\n",
    "    mlflow.log_metric(\"MAE on Dev Set\", mae_rf_dev)\n",
    "\n",
    "    # Log the trained model as an artifact\n",
    "    mlflow.sklearn.log_model(pipeline_rf, \"random_forest_model\")\n",
    "\n",
    "    # Print MAE for Random Forest model on the dev set\n",
    "    print(\"MAE (Random Forest) on Dev Set:\", mae_rf_dev)\n",
    "\n",
    "    # Retrieve the MLflow run ID for Random Forest model\n",
    "    run_id_rf = run_rf.info.run_id\n",
    "    print(\"MLflow Run ID (Random Forest):\", run_id_rf)\n",
    "\n"
   ]
  },
  {
   "cell_type": "code",
   "execution_count": 40,
   "metadata": {},
   "outputs": [],
   "source": [
    "import pickle\n",
    "# Save the trained model as a pickle file\n",
    "with open(\"random_forest_model_tuned.pkl\", \"wb\") as f:\n",
    "    pickle.dump(pipeline_rf, f)\n",
    "\n"
   ]
  },
  {
   "cell_type": "code",
   "execution_count": 41,
   "metadata": {},
   "outputs": [],
   "source": [
    "# Load the trained model from the pickle file\n",
    "with open(\"random_forest_model_tuned.pkl\", \"rb\") as f:\n",
    "    loaded_model = pickle.load(f)"
   ]
  },
  {
   "cell_type": "code",
   "execution_count": 42,
   "metadata": {},
   "outputs": [
    {
     "name": "stdout",
     "output_type": "stream",
     "text": [
      "MAE on Test Set: 2.6870819816576192\n"
     ]
    }
   ],
   "source": [
    "# Use the loaded model to make predictions on the test data\n",
    "predictions = loaded_model.predict(X_test)\n",
    "\n",
    "# Evaluate the predictions using mean absolute error (MAE)\n",
    "mae_test = mean_absolute_error(predictions, y_test)\n",
    "\n",
    "print(\"MAE on Test Set:\", mae_test)"
   ]
  }
 ],
 "metadata": {
  "kernelspec": {
   "display_name": "Python 3",
   "language": "python",
   "name": "python3"
  },
  "language_info": {
   "codemirror_mode": {
    "name": "ipython",
    "version": 3
   },
   "file_extension": ".py",
   "mimetype": "text/x-python",
   "name": "python",
   "nbconvert_exporter": "python",
   "pygments_lexer": "ipython3",
   "version": "3.11.4"
  }
 },
 "nbformat": 4,
 "nbformat_minor": 2
}
