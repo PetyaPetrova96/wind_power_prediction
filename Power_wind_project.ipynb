{
 "cells": [
  {
   "cell_type": "code",
   "execution_count": 1,
   "metadata": {},
   "outputs": [],
   "source": [
    "#pip install influxdb\n"
   ]
  },
  {
   "cell_type": "markdown",
   "metadata": {},
   "source": [
    "## Step 1: Data Fetching \n"
   ]
  },
  {
   "cell_type": "code",
   "execution_count": 2,
   "metadata": {},
   "outputs": [],
   "source": [
    "from influxdb import InfluxDBClient\n",
    "import datetime\n",
    "import pandas as pd\n",
    "from termcolor import colored\n",
    "import os\n",
    "import matplotlib.pyplot as plt\n",
    "import numpy as np\n",
    "from sklearn.model_selection import train_test_split\n",
    "import mlflow\n",
    "from sklearn.pipeline import Pipeline\n",
    "from sklearn.preprocessing import StandardScaler\n",
    "from sklearn.linear_model import LinearRegression\n",
    "from sklearn.metrics import mean_absolute_error"
   ]
  },
  {
   "cell_type": "code",
   "execution_count": 3,
   "metadata": {},
   "outputs": [],
   "source": [
    "# Set the needed parameters to connect to the database\n",
    "\n",
    "settings = {\n",
    "    'host': 'influxus.itu.dk',\n",
    "    'port': 8086,\n",
    "    'username': 'lsda',\n",
    "    'password': 'icanonlyread'\n",
    "    }\n",
    "\n",
    "# Create an InfluxDB Client instance and select the orkney database\n",
    "\n",
    "client = InfluxDBClient(host=settings['host'], port=settings['port'], username=settings['username'], password=settings['password'])\n",
    "client.switch_database('orkney')"
   ]
  },
  {
   "cell_type": "code",
   "execution_count": 4,
   "metadata": {},
   "outputs": [],
   "source": [
    "## Function to tranform the InfluxDB resulting set into a Dataframe\n",
    "def set_to_dataframe(resulting_set):\n",
    "    \n",
    "    values = resulting_set.raw[\"series\"][0][\"values\"]\n",
    "    columns = resulting_set.raw[\"series\"][0][\"columns\"]\n",
    "    df = pd.DataFrame(values, columns=columns).set_index(\"time\")\n",
    "    df.index = pd.to_datetime(df.index) # Convert to datetime-index\n",
    "\n",
    "    return df"
   ]
  },
  {
   "cell_type": "code",
   "execution_count": 5,
   "metadata": {},
   "outputs": [],
   "source": [
    "days = 90 # -> You can change this to get any other range of days\n",
    "\n",
    "### YOU DON'T NEED TO CHANGE ANYTHING HERE ###\n",
    "power_set = client.query(\n",
    "    \"SELECT * FROM Generation where time > now()-\"+str(days)+\"d\"\n",
    "    ) # Query written in InfluxQL. We are retrieving all generation data from 90 days back.\n",
    "\n",
    "# Get the last 90 days of weather forecasts with the shortest lead time\n",
    "wind_set  = client.query(\n",
    "    \"SELECT * FROM MetForecasts where time > now()-\"+str(days)+\"d and time <= now() and Lead_hours = '1'\"\n",
    "    ) # Query written in InfluxQL. We are retrieving all weather forecast data from 90 days back and with 1 lead hour.\n",
    "\n",
    "power_df = set_to_dataframe(power_set)\n",
    "wind_df = set_to_dataframe(wind_set)"
   ]
  },
  {
   "cell_type": "code",
   "execution_count": 6,
   "metadata": {},
   "outputs": [
    {
     "data": {
      "text/html": [
       "<div>\n",
       "<style scoped>\n",
       "    .dataframe tbody tr th:only-of-type {\n",
       "        vertical-align: middle;\n",
       "    }\n",
       "\n",
       "    .dataframe tbody tr th {\n",
       "        vertical-align: top;\n",
       "    }\n",
       "\n",
       "    .dataframe thead th {\n",
       "        text-align: right;\n",
       "    }\n",
       "</style>\n",
       "<table border=\"1\" class=\"dataframe\">\n",
       "  <thead>\n",
       "    <tr style=\"text-align: right;\">\n",
       "      <th></th>\n",
       "      <th>ANM</th>\n",
       "      <th>Non-ANM</th>\n",
       "      <th>Total</th>\n",
       "    </tr>\n",
       "    <tr>\n",
       "      <th>time</th>\n",
       "      <th></th>\n",
       "      <th></th>\n",
       "      <th></th>\n",
       "    </tr>\n",
       "  </thead>\n",
       "  <tbody>\n",
       "    <tr>\n",
       "      <th>2024-01-20 09:22:00+00:00</th>\n",
       "      <td>4.560870</td>\n",
       "      <td>14.031</td>\n",
       "      <td>18.591870</td>\n",
       "    </tr>\n",
       "    <tr>\n",
       "      <th>2024-01-20 09:23:00+00:00</th>\n",
       "      <td>4.551188</td>\n",
       "      <td>13.973</td>\n",
       "      <td>18.524188</td>\n",
       "    </tr>\n",
       "    <tr>\n",
       "      <th>2024-01-20 09:24:00+00:00</th>\n",
       "      <td>4.548716</td>\n",
       "      <td>13.859</td>\n",
       "      <td>18.407716</td>\n",
       "    </tr>\n",
       "    <tr>\n",
       "      <th>2024-01-20 09:25:00+00:00</th>\n",
       "      <td>4.493551</td>\n",
       "      <td>14.068</td>\n",
       "      <td>18.561551</td>\n",
       "    </tr>\n",
       "    <tr>\n",
       "      <th>2024-01-20 09:26:00+00:00</th>\n",
       "      <td>4.628533</td>\n",
       "      <td>13.651</td>\n",
       "      <td>18.279533</td>\n",
       "    </tr>\n",
       "  </tbody>\n",
       "</table>\n",
       "</div>"
      ],
      "text/plain": [
       "                                ANM  Non-ANM      Total\n",
       "time                                                   \n",
       "2024-01-20 09:22:00+00:00  4.560870   14.031  18.591870\n",
       "2024-01-20 09:23:00+00:00  4.551188   13.973  18.524188\n",
       "2024-01-20 09:24:00+00:00  4.548716   13.859  18.407716\n",
       "2024-01-20 09:25:00+00:00  4.493551   14.068  18.561551\n",
       "2024-01-20 09:26:00+00:00  4.628533   13.651  18.279533"
      ]
     },
     "execution_count": 6,
     "metadata": {},
     "output_type": "execute_result"
    }
   ],
   "source": [
    "# data taken every minute\n",
    "power_df.head()\n",
    "\n"
   ]
  },
  {
   "cell_type": "code",
   "execution_count": 7,
   "metadata": {},
   "outputs": [
    {
     "data": {
      "text/html": [
       "<div>\n",
       "<style scoped>\n",
       "    .dataframe tbody tr th:only-of-type {\n",
       "        vertical-align: middle;\n",
       "    }\n",
       "\n",
       "    .dataframe tbody tr th {\n",
       "        vertical-align: top;\n",
       "    }\n",
       "\n",
       "    .dataframe thead th {\n",
       "        text-align: right;\n",
       "    }\n",
       "</style>\n",
       "<table border=\"1\" class=\"dataframe\">\n",
       "  <thead>\n",
       "    <tr style=\"text-align: right;\">\n",
       "      <th></th>\n",
       "      <th>time</th>\n",
       "      <th>Direction</th>\n",
       "      <th>Lead_hours</th>\n",
       "      <th>Source_time</th>\n",
       "      <th>Speed</th>\n",
       "    </tr>\n",
       "  </thead>\n",
       "  <tbody>\n",
       "    <tr>\n",
       "      <th>0</th>\n",
       "      <td>2024-01-20 12:00:00+00:00</td>\n",
       "      <td>SSW</td>\n",
       "      <td>1</td>\n",
       "      <td>1705744800</td>\n",
       "      <td>8.94080</td>\n",
       "    </tr>\n",
       "    <tr>\n",
       "      <th>1</th>\n",
       "      <td>2024-01-20 15:00:00+00:00</td>\n",
       "      <td>S</td>\n",
       "      <td>1</td>\n",
       "      <td>1705755600</td>\n",
       "      <td>5.81152</td>\n",
       "    </tr>\n",
       "    <tr>\n",
       "      <th>2</th>\n",
       "      <td>2024-01-20 18:00:00+00:00</td>\n",
       "      <td>S</td>\n",
       "      <td>1</td>\n",
       "      <td>1705766400</td>\n",
       "      <td>11.17600</td>\n",
       "    </tr>\n",
       "    <tr>\n",
       "      <th>3</th>\n",
       "      <td>2024-01-20 21:00:00+00:00</td>\n",
       "      <td>S</td>\n",
       "      <td>1</td>\n",
       "      <td>1705777200</td>\n",
       "      <td>13.85824</td>\n",
       "    </tr>\n",
       "    <tr>\n",
       "      <th>4</th>\n",
       "      <td>2024-01-21 00:00:00+00:00</td>\n",
       "      <td>S</td>\n",
       "      <td>1</td>\n",
       "      <td>1705788000</td>\n",
       "      <td>16.09344</td>\n",
       "    </tr>\n",
       "    <tr>\n",
       "      <th>...</th>\n",
       "      <td>...</td>\n",
       "      <td>...</td>\n",
       "      <td>...</td>\n",
       "      <td>...</td>\n",
       "      <td>...</td>\n",
       "    </tr>\n",
       "    <tr>\n",
       "      <th>697</th>\n",
       "      <td>2024-04-18 21:00:00+00:00</td>\n",
       "      <td>NNW</td>\n",
       "      <td>1</td>\n",
       "      <td>1713463200</td>\n",
       "      <td>11.17600</td>\n",
       "    </tr>\n",
       "    <tr>\n",
       "      <th>698</th>\n",
       "      <td>2024-04-19 00:00:00+00:00</td>\n",
       "      <td>NNW</td>\n",
       "      <td>1</td>\n",
       "      <td>1713474000</td>\n",
       "      <td>12.07008</td>\n",
       "    </tr>\n",
       "    <tr>\n",
       "      <th>699</th>\n",
       "      <td>2024-04-19 03:00:00+00:00</td>\n",
       "      <td>NNW</td>\n",
       "      <td>1</td>\n",
       "      <td>1713484800</td>\n",
       "      <td>15.19936</td>\n",
       "    </tr>\n",
       "    <tr>\n",
       "      <th>700</th>\n",
       "      <td>2024-04-19 06:00:00+00:00</td>\n",
       "      <td>NNW</td>\n",
       "      <td>1</td>\n",
       "      <td>1713495600</td>\n",
       "      <td>13.85824</td>\n",
       "    </tr>\n",
       "    <tr>\n",
       "      <th>701</th>\n",
       "      <td>2024-04-19 09:00:00+00:00</td>\n",
       "      <td>NNW</td>\n",
       "      <td>1</td>\n",
       "      <td>1713506400</td>\n",
       "      <td>15.19936</td>\n",
       "    </tr>\n",
       "  </tbody>\n",
       "</table>\n",
       "<p>702 rows × 5 columns</p>\n",
       "</div>"
      ],
      "text/plain": [
       "                         time Direction Lead_hours  Source_time     Speed\n",
       "0   2024-01-20 12:00:00+00:00       SSW          1   1705744800   8.94080\n",
       "1   2024-01-20 15:00:00+00:00         S          1   1705755600   5.81152\n",
       "2   2024-01-20 18:00:00+00:00         S          1   1705766400  11.17600\n",
       "3   2024-01-20 21:00:00+00:00         S          1   1705777200  13.85824\n",
       "4   2024-01-21 00:00:00+00:00         S          1   1705788000  16.09344\n",
       "..                        ...       ...        ...          ...       ...\n",
       "697 2024-04-18 21:00:00+00:00       NNW          1   1713463200  11.17600\n",
       "698 2024-04-19 00:00:00+00:00       NNW          1   1713474000  12.07008\n",
       "699 2024-04-19 03:00:00+00:00       NNW          1   1713484800  15.19936\n",
       "700 2024-04-19 06:00:00+00:00       NNW          1   1713495600  13.85824\n",
       "701 2024-04-19 09:00:00+00:00       NNW          1   1713506400  15.19936\n",
       "\n",
       "[702 rows x 5 columns]"
      ]
     },
     "execution_count": 7,
     "metadata": {},
     "output_type": "execute_result"
    }
   ],
   "source": [
    "# data taken every 3 hours\n",
    "wind_df.reset_index()"
   ]
  },
  {
   "cell_type": "code",
   "execution_count": 8,
   "metadata": {},
   "outputs": [],
   "source": [
    "# Saving power_df to CSV\n",
    "power_df.to_csv('power_data.csv', index=True)\n",
    "\n",
    "# Saving wind_df to CSV\n",
    "wind_df.to_csv('wind_data.csv', index=True)\n"
   ]
  },
  {
   "cell_type": "code",
   "execution_count": 9,
   "metadata": {},
   "outputs": [
    {
     "name": "stdout",
     "output_type": "stream",
     "text": [
      "                       time       ANM  Non-ANM      Total\n",
      "0 2024-01-20 09:22:00+00:00  4.560870   14.031  18.591870\n",
      "1 2024-01-20 09:23:00+00:00  4.551188   13.973  18.524188\n",
      "2 2024-01-20 09:24:00+00:00  4.548716   13.859  18.407716\n",
      "3 2024-01-20 09:25:00+00:00  4.493551   14.068  18.561551\n",
      "4 2024-01-20 09:26:00+00:00  4.628533   13.651  18.279533\n"
     ]
    }
   ],
   "source": [
    "power_df = power_df.reset_index()\n",
    "print(power_df.head())\n"
   ]
  },
  {
   "cell_type": "code",
   "execution_count": 10,
   "metadata": {},
   "outputs": [
    {
     "name": "stdout",
     "output_type": "stream",
     "text": [
      "                          Direction Lead_hours  Source_time     Speed  \\\n",
      "time                                                                    \n",
      "2024-01-20 12:00:00+00:00       SSW          1   1705744800   8.94080   \n",
      "2024-01-20 15:00:00+00:00         S          1   1705755600   5.81152   \n",
      "2024-01-20 18:00:00+00:00         S          1   1705766400  11.17600   \n",
      "2024-01-20 21:00:00+00:00         S          1   1705777200  13.85824   \n",
      "2024-01-21 00:00:00+00:00         S          1   1705788000  16.09344   \n",
      "\n",
      "                           Direction_Degrees  \n",
      "time                                          \n",
      "2024-01-20 12:00:00+00:00                202  \n",
      "2024-01-20 15:00:00+00:00                180  \n",
      "2024-01-20 18:00:00+00:00                180  \n",
      "2024-01-20 21:00:00+00:00                180  \n",
      "2024-01-21 00:00:00+00:00                180  \n"
     ]
    }
   ],
   "source": [
    "# Encoding the direction of the wnd into degrees\n",
    "direction_set = set(wind_df['Direction'])\n",
    "#print(direction_set)\n",
    "\n",
    "# Mapping dictionary from degrees from http://tamivox.org/dave/compass/\n",
    "direction_mapping = {\n",
    "    'N': 0,\n",
    "    'NNE': 23,\n",
    "    'NE': 45,\n",
    "    'ENE': 67,\n",
    "    'E': 90,\n",
    "    'ESE': 112,\n",
    "    'SE': 135,\n",
    "    'SSE': 152,\n",
    "    'S': 180,\n",
    "    'SSW': 202,\n",
    "    'SW': 225,\n",
    "    'WSW': 247,\n",
    "    'W': 270,\n",
    "    'WNW': 293,\n",
    "    'NW': 315,\n",
    "    'NNW': 337\n",
    "}\n",
    "\n",
    "# Convert direction strings to numerical values\n",
    "wind_df['Direction_Degrees'] = wind_df['Direction'].map(direction_mapping)\n",
    "print(wind_df.head())\n"
   ]
  },
  {
   "cell_type": "code",
   "execution_count": 11,
   "metadata": {},
   "outputs": [
    {
     "name": "stdout",
     "output_type": "stream",
     "text": [
      "                       time Direction Lead_hours  Source_time     Speed  \\\n",
      "0 2024-01-20 12:00:00+00:00       SSW          1   1705744800   8.94080   \n",
      "1 2024-01-20 15:00:00+00:00         S          1   1705755600   5.81152   \n",
      "2 2024-01-20 18:00:00+00:00         S          1   1705766400  11.17600   \n",
      "3 2024-01-20 21:00:00+00:00         S          1   1705777200  13.85824   \n",
      "4 2024-01-21 00:00:00+00:00         S          1   1705788000  16.09344   \n",
      "\n",
      "   Direction_Degrees  \n",
      "0                202  \n",
      "1                180  \n",
      "2                180  \n",
      "3                180  \n",
      "4                180  \n"
     ]
    }
   ],
   "source": [
    "wind_df = wind_df.reset_index()\n",
    "print(wind_df.head())"
   ]
  },
  {
   "cell_type": "code",
   "execution_count": null,
   "metadata": {},
   "outputs": [],
   "source": []
  },
  {
   "cell_type": "markdown",
   "metadata": {},
   "source": []
  },
  {
   "cell_type": "code",
   "execution_count": null,
   "metadata": {},
   "outputs": [],
   "source": []
  },
  {
   "cell_type": "code",
   "execution_count": 12,
   "metadata": {},
   "outputs": [
    {
     "name": "stdout",
     "output_type": "stream",
     "text": [
      "time                 2024-01-20 12:41:00+00:00\n",
      "ANM                                    5.22895\n",
      "Non-ANM                                 14.012\n",
      "Total                                 19.24095\n",
      "Direction                                  NaN\n",
      "Lead_hours                                 NaN\n",
      "Source_time                                NaN\n",
      "Speed                                      NaN\n",
      "Direction_Degrees                          NaN\n",
      "Name: 199, dtype: object\n"
     ]
    }
   ],
   "source": [
    "merged = pd.merge(power_df, wind_df, on = \"time\", how='left')\n",
    "row_200 = merged.iloc[199]\n",
    "print(row_200)"
   ]
  },
  {
   "cell_type": "code",
   "execution_count": 13,
   "metadata": {},
   "outputs": [],
   "source": [
    "\n",
    "# Dropping the non needed columns \n",
    "\n",
    "columns_to_remove = ['time','ANM','Non-ANM','Direction', 'Lead_hours', 'Source_time']\n",
    "merged.drop(columns=columns_to_remove, inplace=True)\n"
   ]
  },
  {
   "cell_type": "code",
   "execution_count": 14,
   "metadata": {},
   "outputs": [
    {
     "data": {
      "text/plain": [
       "<bound method NDFrame.head of            Total  Speed  Direction_Degrees\n",
       "0      18.591870    NaN                NaN\n",
       "1      18.524188    NaN                NaN\n",
       "2      18.407716    NaN                NaN\n",
       "3      18.561551    NaN                NaN\n",
       "4      18.279533    NaN                NaN\n",
       "...          ...    ...                ...\n",
       "81812  26.054348    NaN                NaN\n",
       "81813  26.484115    NaN                NaN\n",
       "81814  26.686420    NaN                NaN\n",
       "81815  27.236970    NaN                NaN\n",
       "81816  26.835087    NaN                NaN\n",
       "\n",
       "[81817 rows x 3 columns]>"
      ]
     },
     "execution_count": 14,
     "metadata": {},
     "output_type": "execute_result"
    }
   ],
   "source": [
    "merged.shape\n",
    "merged.head"
   ]
  },
  {
   "cell_type": "code",
   "execution_count": null,
   "metadata": {},
   "outputs": [],
   "source": []
  },
  {
   "cell_type": "code",
   "execution_count": 15,
   "metadata": {},
   "outputs": [
    {
     "data": {
      "image/png": "[encoded data removed]",
      "text/plain": [
       "<Figure size 640x480 with 1 Axes>"
      ]
     },
     "metadata": {},
     "output_type": "display_data"
    }
   ],
   "source": [
    "plt.hist(merged['Direction_Degrees'], bins=40, color='skyblue', edgecolor='black')\n",
    "\n",
    "# Add labels and title\n",
    "plt.xlabel('Direction Degrees')\n",
    "plt.ylabel('Frequency')\n",
    "plt.title('Histogram of Direction Degrees')\n",
    "\n",
    "# Show the plot\n",
    "plt.show()"
   ]
  },
  {
   "cell_type": "code",
   "execution_count": null,
   "metadata": {},
   "outputs": [],
   "source": []
  },
  {
   "cell_type": "code",
   "execution_count": 16,
   "metadata": {},
   "outputs": [
    {
     "data": {
      "image/png": "[encoded data removed]",
      "text/plain": [
       "<Figure size 640x480 with 1 Axes>"
      ]
     },
     "metadata": {},
     "output_type": "display_data"
    }
   ],
   "source": [
    "plt.scatter(merged['Direction_Degrees'],merged['Speed'])\n",
    "plt.xlabel('Direction Degrees')\n",
    "plt.ylabel(' Speed')\n",
    "plt.title('Direction Degrees vs. Wind Speed')\n",
    "plt.show()\n"
   ]
  },
  {
   "cell_type": "code",
   "execution_count": 17,
   "metadata": {},
   "outputs": [
    {
     "data": {
      "text/html": [
       "<div>\n",
       "<style scoped>\n",
       "    .dataframe tbody tr th:only-of-type {\n",
       "        vertical-align: middle;\n",
       "    }\n",
       "\n",
       "    .dataframe tbody tr th {\n",
       "        vertical-align: top;\n",
       "    }\n",
       "\n",
       "    .dataframe thead th {\n",
       "        text-align: right;\n",
       "    }\n",
       "</style>\n",
       "<table border=\"1\" class=\"dataframe\">\n",
       "  <thead>\n",
       "    <tr style=\"text-align: right;\">\n",
       "      <th></th>\n",
       "      <th>Total</th>\n",
       "      <th>Speed</th>\n",
       "      <th>Direction_Degrees</th>\n",
       "    </tr>\n",
       "  </thead>\n",
       "  <tbody>\n",
       "    <tr>\n",
       "      <th>0</th>\n",
       "      <td>18.591870</td>\n",
       "      <td>8.9408</td>\n",
       "      <td>202.0</td>\n",
       "    </tr>\n",
       "    <tr>\n",
       "      <th>1</th>\n",
       "      <td>18.524188</td>\n",
       "      <td>8.9408</td>\n",
       "      <td>202.0</td>\n",
       "    </tr>\n",
       "    <tr>\n",
       "      <th>2</th>\n",
       "      <td>18.407716</td>\n",
       "      <td>8.9408</td>\n",
       "      <td>202.0</td>\n",
       "    </tr>\n",
       "    <tr>\n",
       "      <th>3</th>\n",
       "      <td>18.561551</td>\n",
       "      <td>8.9408</td>\n",
       "      <td>202.0</td>\n",
       "    </tr>\n",
       "    <tr>\n",
       "      <th>4</th>\n",
       "      <td>18.279533</td>\n",
       "      <td>8.9408</td>\n",
       "      <td>202.0</td>\n",
       "    </tr>\n",
       "  </tbody>\n",
       "</table>\n",
       "</div>"
      ],
      "text/plain": [
       "       Total   Speed  Direction_Degrees\n",
       "0  18.591870  8.9408              202.0\n",
       "1  18.524188  8.9408              202.0\n",
       "2  18.407716  8.9408              202.0\n",
       "3  18.561551  8.9408              202.0\n",
       "4  18.279533  8.9408              202.0"
      ]
     },
     "execution_count": 17,
     "metadata": {},
     "output_type": "execute_result"
    }
   ],
   "source": [
    "newdf = merged.interpolate(method='bfill')\n",
    "newdf.head()"
   ]
  },
  {
   "cell_type": "code",
   "execution_count": 18,
   "metadata": {},
   "outputs": [],
   "source": [
    "newdf.to_csv('full_data.csv')\n"
   ]
  },
  {
   "cell_type": "code",
   "execution_count": null,
   "metadata": {},
   "outputs": [],
   "source": []
  },
  {
   "cell_type": "code",
   "execution_count": 19,
   "metadata": {},
   "outputs": [
    {
     "data": {
      "image/png": "[encoded data removed]",
      "text/plain": [
       "<Figure size 640x480 with 1 Axes>"
      ]
     },
     "metadata": {},
     "output_type": "display_data"
    }
   ],
   "source": [
    "\n",
    "\n",
    "# Plotting mean_total against speed\n",
    "plt.scatter(newdf['Speed'], newdf['Total'])\n",
    "plt.xlabel('Speed')\n",
    "plt.ylabel(' Total Power')\n",
    "plt.title('Total Power vs. Wind Speed')\n",
    "plt.show()\n"
   ]
  },
  {
   "cell_type": "markdown",
   "metadata": {},
   "source": [
    "## EDA"
   ]
  },
  {
   "cell_type": "code",
   "execution_count": 20,
   "metadata": {},
   "outputs": [
    {
     "data": {
      "image/png": "[encoded data removed]",
      "text/plain": [
       "<Figure size 2500x400 with 3 Axes>"
      ]
     },
     "metadata": {},
     "output_type": "display_data"
    }
   ],
   "source": [
    "# Subplots\n",
    "fig, ax = plt.subplots(1,3, figsize=(25,4))\n",
    "\n",
    "# Speed and Power for the last 7 days\n",
    "ax[0].plot(newdf[\"Speed\"].tail(int(7*24/3)), label=\"Speed\", color=\"blue\") # Since the datasets are joined every three hours, we need the last 7 days times 24 hours diveded by 3 hours\n",
    "ax[0].plot(newdf[\"Total\"].tail(int(7*24/3)), label=\"Power\", color=\"tab:red\") # Since the datasets are joined every three hours, we need the last 7 days times 24 hours diveded by 3 hours\n",
    "ax[0].set_title(\"Windspeed & Power Generation over last 7 days\")\n",
    "ax[0].set_xlabel(\"Time\")\n",
    "ax[0].tick_params(axis='x', labelrotation = 45)\n",
    "ax[0].set_ylabel(\"Windspeed [m/s], Power [MW]\")\n",
    "ax[0].legend()\n",
    "\n",
    "# Speed vs Total (Power Curve nature)\n",
    "ax[1].scatter(newdf[\"Speed\"], newdf[\"Total\"])\n",
    "power_curve = newdf.groupby(\"Speed\").median(numeric_only=True)[\"Total\"]\n",
    "ax[1].plot(power_curve.index, power_curve.values, \"k:\", label=\"Power Curve\")\n",
    "ax[1].legend()\n",
    "ax[1].set_title(\"Windspeed vs Power\")\n",
    "ax[1].set_ylabel(\"Power [MW]\")\n",
    "ax[1].set_xlabel(\"Windspeed [m/s]\")\n",
    "\n",
    "# Speed and Power per Wind Direction\n",
    "wind_grouped_by_direction = newdf.groupby(\"Direction_Degrees\").mean(numeric_only=True).reset_index()\n",
    "bar_width = 0.5\n",
    "x = np.arange(len(wind_grouped_by_direction.index))\n",
    "\n",
    "ax[2].bar(x, wind_grouped_by_direction.Total, width=0.5, label=\"Power\", color=\"tab:red\")\n",
    "ax[2].bar(x + bar_width, wind_grouped_by_direction.Total, width=0.5, label=\"Speed\", color=\"blue\")\n",
    "ax[2].legend()\n",
    "ax[2].set_xticks(x)\n",
    "ax[2].set_xticklabels(wind_grouped_by_direction.Direction_Degrees)\n",
    "ax[2].tick_params(axis='x', labelrotation = 45)\n",
    "ax[2].set_title(\"Speed and Power per Direction\");"
   ]
  },
  {
   "cell_type": "code",
   "execution_count": 21,
   "metadata": {},
   "outputs": [
    {
     "data": {
      "text/plain": [
       "(81817, 3)"
      ]
     },
     "execution_count": 21,
     "metadata": {},
     "output_type": "execute_result"
    }
   ],
   "source": [
    "newdf.shape"
   ]
  },
  {
   "cell_type": "code",
   "execution_count": 22,
   "metadata": {},
   "outputs": [
    {
     "data": {
      "text/html": [
       "<div>\n",
       "<style scoped>\n",
       "    .dataframe tbody tr th:only-of-type {\n",
       "        vertical-align: middle;\n",
       "    }\n",
       "\n",
       "    .dataframe tbody tr th {\n",
       "        vertical-align: top;\n",
       "    }\n",
       "\n",
       "    .dataframe thead th {\n",
       "        text-align: right;\n",
       "    }\n",
       "</style>\n",
       "<table border=\"1\" class=\"dataframe\">\n",
       "  <thead>\n",
       "    <tr style=\"text-align: right;\">\n",
       "      <th></th>\n",
       "      <th>Total</th>\n",
       "    </tr>\n",
       "  </thead>\n",
       "  <tbody>\n",
       "    <tr>\n",
       "      <th>0</th>\n",
       "      <td>18.591870</td>\n",
       "    </tr>\n",
       "    <tr>\n",
       "      <th>1</th>\n",
       "      <td>18.524188</td>\n",
       "    </tr>\n",
       "    <tr>\n",
       "      <th>2</th>\n",
       "      <td>18.407716</td>\n",
       "    </tr>\n",
       "    <tr>\n",
       "      <th>3</th>\n",
       "      <td>18.561551</td>\n",
       "    </tr>\n",
       "    <tr>\n",
       "      <th>4</th>\n",
       "      <td>18.279533</td>\n",
       "    </tr>\n",
       "    <tr>\n",
       "      <th>...</th>\n",
       "      <td>...</td>\n",
       "    </tr>\n",
       "    <tr>\n",
       "      <th>81812</th>\n",
       "      <td>26.054348</td>\n",
       "    </tr>\n",
       "    <tr>\n",
       "      <th>81813</th>\n",
       "      <td>26.484115</td>\n",
       "    </tr>\n",
       "    <tr>\n",
       "      <th>81814</th>\n",
       "      <td>26.686420</td>\n",
       "    </tr>\n",
       "    <tr>\n",
       "      <th>81815</th>\n",
       "      <td>27.236970</td>\n",
       "    </tr>\n",
       "    <tr>\n",
       "      <th>81816</th>\n",
       "      <td>26.835087</td>\n",
       "    </tr>\n",
       "  </tbody>\n",
       "</table>\n",
       "<p>81817 rows × 1 columns</p>\n",
       "</div>"
      ],
      "text/plain": [
       "           Total\n",
       "0      18.591870\n",
       "1      18.524188\n",
       "2      18.407716\n",
       "3      18.561551\n",
       "4      18.279533\n",
       "...          ...\n",
       "81812  26.054348\n",
       "81813  26.484115\n",
       "81814  26.686420\n",
       "81815  27.236970\n",
       "81816  26.835087\n",
       "\n",
       "[81817 rows x 1 columns]"
      ]
     },
     "execution_count": 22,
     "metadata": {},
     "output_type": "execute_result"
    }
   ],
   "source": [
    "newdf.dropna(how='all')\n",
    "newdf.dropna(axis='columns')"
   ]
  },
  {
   "cell_type": "code",
   "execution_count": 23,
   "metadata": {},
   "outputs": [
    {
     "name": "stdout",
     "output_type": "stream",
     "text": [
      "Total                 0\n",
      "Speed                21\n",
      "Direction_Degrees    21\n",
      "dtype: int64\n"
     ]
    }
   ],
   "source": [
    "# Count NA values in each column\n",
    "na_counts = newdf.isna().sum()\n",
    "\n",
    "# Print the result\n",
    "print(na_counts)"
   ]
  },
  {
   "cell_type": "code",
   "execution_count": 24,
   "metadata": {},
   "outputs": [
    {
     "data": {
      "text/plain": [
       "(81817, 3)"
      ]
     },
     "execution_count": 24,
     "metadata": {},
     "output_type": "execute_result"
    }
   ],
   "source": [
    "newdf.shape"
   ]
  },
  {
   "cell_type": "code",
   "execution_count": 25,
   "metadata": {},
   "outputs": [],
   "source": [
    "df_cleaned = newdf.dropna()"
   ]
  },
  {
   "cell_type": "code",
   "execution_count": 26,
   "metadata": {},
   "outputs": [
    {
     "data": {
      "text/html": [
       "<div>\n",
       "<style scoped>\n",
       "    .dataframe tbody tr th:only-of-type {\n",
       "        vertical-align: middle;\n",
       "    }\n",
       "\n",
       "    .dataframe tbody tr th {\n",
       "        vertical-align: top;\n",
       "    }\n",
       "\n",
       "    .dataframe thead th {\n",
       "        text-align: right;\n",
       "    }\n",
       "</style>\n",
       "<table border=\"1\" class=\"dataframe\">\n",
       "  <thead>\n",
       "    <tr style=\"text-align: right;\">\n",
       "      <th></th>\n",
       "      <th>Total</th>\n",
       "      <th>Speed</th>\n",
       "      <th>Direction_Degrees</th>\n",
       "    </tr>\n",
       "  </thead>\n",
       "  <tbody>\n",
       "    <tr>\n",
       "      <th>0</th>\n",
       "      <td>18.591870</td>\n",
       "      <td>8.9408</td>\n",
       "      <td>202.0</td>\n",
       "    </tr>\n",
       "    <tr>\n",
       "      <th>1</th>\n",
       "      <td>18.524188</td>\n",
       "      <td>8.9408</td>\n",
       "      <td>202.0</td>\n",
       "    </tr>\n",
       "    <tr>\n",
       "      <th>2</th>\n",
       "      <td>18.407716</td>\n",
       "      <td>8.9408</td>\n",
       "      <td>202.0</td>\n",
       "    </tr>\n",
       "    <tr>\n",
       "      <th>3</th>\n",
       "      <td>18.561551</td>\n",
       "      <td>8.9408</td>\n",
       "      <td>202.0</td>\n",
       "    </tr>\n",
       "    <tr>\n",
       "      <th>4</th>\n",
       "      <td>18.279533</td>\n",
       "      <td>8.9408</td>\n",
       "      <td>202.0</td>\n",
       "    </tr>\n",
       "  </tbody>\n",
       "</table>\n",
       "</div>"
      ],
      "text/plain": [
       "       Total   Speed  Direction_Degrees\n",
       "0  18.591870  8.9408              202.0\n",
       "1  18.524188  8.9408              202.0\n",
       "2  18.407716  8.9408              202.0\n",
       "3  18.561551  8.9408              202.0\n",
       "4  18.279533  8.9408              202.0"
      ]
     },
     "execution_count": 26,
     "metadata": {},
     "output_type": "execute_result"
    }
   ],
   "source": [
    "df_cleaned.shape\n",
    "df_cleaned.head()"
   ]
  },
  {
   "cell_type": "markdown",
   "metadata": {},
   "source": [
    "## Step 2 Pipeline and data transformations"
   ]
  },
  {
   "cell_type": "markdown",
   "metadata": {},
   "source": []
  },
  {
   "cell_type": "code",
   "execution_count": 27,
   "metadata": {},
   "outputs": [],
   "source": [
    "# A very basic pipeline\n",
    "pipeline_example = Pipeline([\n",
    "    # Transformations\n",
    "    (\"Scaler\", StandardScaler()),\n",
    "    # Estimator\n",
    "    (\"Linear Regression\", LinearRegression())\n",
    "])"
   ]
  },
  {
   "cell_type": "markdown",
   "metadata": {},
   "source": [
    "## Evaluate your model"
   ]
  },
  {
   "cell_type": "code",
   "execution_count": 28,
   "metadata": {},
   "outputs": [
    {
     "name": "stdout",
     "output_type": "stream",
     "text": [
      "5.127531978955357\n"
     ]
    }
   ],
   "source": [
    "# Select our feature variables and our target variable.\n",
    "\n",
    "\n",
    "X = df_cleaned[\"Speed\"].values.reshape(-1,1)\n",
    "y = df_cleaned[\"Total\"].values.reshape(-1,1)\n",
    "\n",
    "# Split the data so we can test how well our model performs in unseen data\n",
    "X_train, X_test, y_train, y_test = train_test_split(X, y) # -> You might want to use another split method\n",
    "\n",
    "# Train our model\n",
    "pipeline_example.fit(X_train, y_train)\n",
    "\n",
    "# Evaluate the model, using MAE as a metric\n",
    "mae = mean_absolute_error(pipeline_example.predict(X_test), y_test)\n",
    "print(mae)"
   ]
  },
  {
   "cell_type": "code",
   "execution_count": 29,
   "metadata": {},
   "outputs": [
    {
     "name": "stderr",
     "output_type": "stream",
     "text": [
      "c:\\Users\\45911\\AppData\\Local\\Programs\\Python\\Python311\\Lib\\site-packages\\_distutils_hack\\__init__.py:33: UserWarning: Setuptools is replacing distutils.\n",
      "  warnings.warn(\"Setuptools is replacing distutils.\")\n"
     ]
    }
   ],
   "source": [
    "import mlflow\n",
    "from sklearn.pipeline import Pipeline\n",
    "from sklearn.preprocessing import StandardScaler\n",
    "from sklearn.linear_model import LinearRegression\n",
    "from sklearn.model_selection import train_test_split\n",
    "from sklearn.metrics import mean_absolute_error\n",
    "\n",
    "\n",
    "# Start MLflow run\n",
    "with mlflow.start_run(run_name=\"Lin_regre_1feature_Speed\") as run:\n",
    "\n",
    "    # Define your pipeline\n",
    "    pipeline_example = Pipeline([\n",
    "        # Transformations\n",
    "        (\"Scaler\", StandardScaler()),\n",
    "        # Estimator\n",
    "        (\"Linear Regression\", LinearRegression())\n",
    "    ])\n",
    "\n",
    "    # Select our feature variables and our target variable.\n",
    "    X = df_cleaned[\"Speed\"].values.reshape(-1,1)\n",
    "    y = df_cleaned[\"Total\"].values.reshape(-1,1)\n",
    "\n",
    "    # Split the data so we can test how well our model performs in unseen data\n",
    "    X_train, X_test, y_train, y_test = train_test_split(X, y)\n",
    "\n",
    "    # Train our model\n",
    "    pipeline_example.fit(X_train, y_train)\n",
    "\n",
    "    # Evaluate the model, using MAE as a metric\n",
    "    mae = mean_absolute_error(pipeline_example.predict(X_test), y_test)\n",
    "\n",
    "    # Log parameters\n",
    "    mlflow.log_param(\"model\", \"Linear Regression\")\n",
    "    mlflow.log_param(\"feature\", \"Speed\")\n",
    "\n",
    "    # Log metrics\n",
    "    mlflow.log_metric(\"MAE\", mae)\n",
    "\n",
    "    # Log the trained model as an artifact\n",
    "    mlflow.sklearn.log_model(pipeline_example, \"model\")\n",
    "\n",
    " "
   ]
  },
  {
   "cell_type": "code",
   "execution_count": 30,
   "metadata": {},
   "outputs": [],
   "source": [
    "import mlflow\n",
    "from sklearn.pipeline import Pipeline\n",
    "from sklearn.preprocessing import StandardScaler\n",
    "from sklearn.linear_model import LinearRegression\n",
    "from sklearn.model_selection import train_test_split\n",
    "from sklearn.metrics import mean_absolute_error\n",
    "\n",
    "\n",
    "# Start MLflow run\n",
    "with mlflow.start_run(run_name=\"Lin_regre_1feature_Direction\") as run:\n",
    "\n",
    "    # Define your pipeline\n",
    "    pipeline_example = Pipeline([\n",
    "        # Transformations\n",
    "        (\"Scaler\", StandardScaler()),\n",
    "        # Estimator\n",
    "        (\"Linear Regression\", LinearRegression())\n",
    "    ])\n",
    "\n",
    "    # Select our feature variables and our target variable.\n",
    "    X = df_cleaned[\"Direction_Degrees\"].values.reshape(-1,1)\n",
    "    y = df_cleaned[\"Total\"].values.reshape(-1,1)\n",
    "\n",
    "    # Split the data so we can test how well our model performs in unseen data\n",
    "    X_train, X_test, y_train, y_test = train_test_split(X, y)\n",
    "\n",
    "    # Train our model\n",
    "    pipeline_example.fit(X_train, y_train)\n",
    "\n",
    "    # Evaluate the model, using MAE as a metric\n",
    "    mae = mean_absolute_error(pipeline_example.predict(X_test), y_test)\n",
    "\n",
    "    # Log parameters\n",
    "    mlflow.log_param(\"model\", \"Linear Regression\")\n",
    "    mlflow.log_param(\"feature\", \"Speed\")\n",
    "\n",
    "    # Log metrics\n",
    "    mlflow.log_metric(\"MAE\", mae)\n",
    "\n",
    "    # Log the trained model as an artifact\n",
    "    mlflow.sklearn.log_model(pipeline_example, \"model\")\n",
    "\n",
    " "
   ]
  },
  {
   "cell_type": "code",
   "execution_count": 31,
   "metadata": {},
   "outputs": [
    {
     "name": "stdout",
     "output_type": "stream",
     "text": [
      "MAE (LR with 2 features): 5.074485252718382\n",
      "MLflow Run ID (LR with 2 features): 72e7202e187f4983843e90e3357b327d\n"
     ]
    }
   ],
   "source": [
    "# Select our feature variables and our target variable.\n",
    "X = df_cleaned[[\"Speed\", \"Direction_Degrees\"]]\n",
    "y = df_cleaned[\"Total\"]\n",
    "\n",
    "# Split the data so we can test how well our model performs in unseen data\n",
    "X_train, X_test, y_train, y_test = train_test_split(X, y)\n",
    "\n",
    "# Start MLflow run for Linear Regression model with 2 features\n",
    "with mlflow.start_run(run_name=\"Lin_reg_2features\") as run_lr_2_features:\n",
    "\n",
    "    # Define your pipeline for Linear Regression with 2 features\n",
    "    pipeline_lr_2_features = Pipeline([\n",
    "        # Transformations\n",
    "        (\"Scaler\", StandardScaler()),\n",
    "        # Estimator\n",
    "        (\"Linear Regression\", LinearRegression())\n",
    "    ])\n",
    "\n",
    "    # Train the Linear Regression model with 2 features\n",
    "    pipeline_lr_2_features.fit(X_train, y_train)\n",
    "\n",
    "    # Evaluate the model, using MAE as a metric\n",
    "    mae_lr_2_features = mean_absolute_error(pipeline_lr_2_features.predict(X_test), y_test)\n",
    "\n",
    "    # Log parameters for Linear Regression model with 2 features\n",
    "    mlflow.log_param(\"model\", \"Linear Regression\")\n",
    "    mlflow.log_param(\"features\", \"Speed, Direction_Degrees\")\n",
    "\n",
    "    # Log metrics for Linear Regression model with 2 features\n",
    "    mlflow.log_metric(\"MAE\", mae_lr_2_features)\n",
    "\n",
    "    # Log the trained model as an artifact\n",
    "    mlflow.sklearn.log_model(pipeline_lr_2_features, \"lr_2_features_model\")\n",
    "\n",
    "    # Print MAE for Linear Regression model with 2 features\n",
    "    print(\"MAE (LR with 2 features):\", mae_lr_2_features)\n",
    "\n",
    "    # Retrieve the MLflow run ID for Linear Regression model with 2 features\n",
    "    run_id_lr_2_features = run_lr_2_features.info.run_id\n",
    "    print(\"MLflow Run ID (LR with 2 features):\", run_id_lr_2_features)\n"
   ]
  },
  {
   "cell_type": "code",
   "execution_count": 32,
   "metadata": {},
   "outputs": [
    {
     "name": "stdout",
     "output_type": "stream",
     "text": [
      "MAE (KNN): 2.785354747117218\n",
      "MLflow Run ID (KNN): 0ae9aaf67c09471fab02b5fff05aca1e\n"
     ]
    }
   ],
   "source": [
    "from sklearn.neighbors import KNeighborsRegressor\n",
    "\n",
    "# Start MLflow run for KNN model with a specific run name\n",
    "with mlflow.start_run(run_name=\"KNN_Model\") as run_knn:\n",
    "\n",
    "    # Define your pipeline for KNN\n",
    "    pipeline_knn = Pipeline([\n",
    "        # Transformations (if necessary)\n",
    "        (\"Scaler\", StandardScaler()),  # Scale features for better performance of KNN\n",
    "        # Estimator\n",
    "        (\"KNN\", KNeighborsRegressor())  # Initialize KNN model\n",
    "    ])\n",
    "\n",
    "    # Train the KNN model\n",
    "    pipeline_knn.fit(X_train, y_train)\n",
    "\n",
    "    # Evaluate the model, using MAE as a metric\n",
    "    mae_knn = mean_absolute_error(pipeline_knn.predict(X_test), y_test)\n",
    "\n",
    "    # Log parameters for KNN model\n",
    "    mlflow.log_param(\"model\", \"K-Nearest Neighbors\")\n",
    "    mlflow.log_param(\"feature\", \"Speed\")\n",
    "\n",
    "    # Log metrics for KNN model\n",
    "    mlflow.log_metric(\"MAE\", mae_knn)\n",
    "\n",
    "    # Log the trained model as an artifact\n",
    "    mlflow.sklearn.log_model(pipeline_knn, \"knn_model\")\n",
    "\n",
    "    # Print MAE for KNN model\n",
    "    print(\"MAE (KNN):\", mae_knn)\n",
    "\n",
    "    # Retrieve the MLflow run ID for KNN model\n",
    "    run_id_knn = run_knn.info.run_id\n",
    "    print(\"MLflow Run ID (KNN):\", run_id_knn)\n"
   ]
  },
  {
   "cell_type": "code",
   "execution_count": 33,
   "metadata": {},
   "outputs": [
    {
     "name": "stdout",
     "output_type": "stream",
     "text": [
      "MAE (Random Forest): 2.5679316149236087\n",
      "MLflow Run ID (Random Forest): cd30051666fa4e96b4ae2c876fb7b858\n"
     ]
    }
   ],
   "source": [
    "# Select our feature variables and our target variable.\n",
    "X = df_cleaned[[\"Speed\", \"Direction_Degrees\"]]\n",
    "y = df_cleaned[\"Total\"]\n",
    "\n",
    "from sklearn.ensemble import RandomForestRegressor\n",
    "\n",
    "# Start MLflow run for Random Forest model with a specific run name\n",
    "with mlflow.start_run(run_name=\"RandomForest_Model\") as run_rf:\n",
    "\n",
    "    # Define your pipeline for Random Forest\n",
    "    pipeline_rf = Pipeline([\n",
    "        # Transformations (if necessary)\n",
    "        (\"Scaler\", StandardScaler()),  # Scale features for better performance\n",
    "        # Estimator\n",
    "        (\"RandomForest\", RandomForestRegressor())  # Initialize Random Forest model\n",
    "    ])\n",
    "\n",
    "    # Train the Random Forest model\n",
    "    pipeline_rf.fit(X_train, y_train)\n",
    "\n",
    "    # Evaluate the model, using MAE as a metric\n",
    "    mae_rf = mean_absolute_error(pipeline_rf.predict(X_test), y_test)\n",
    "\n",
    "    # Log parameters for Random Forest model\n",
    "    mlflow.log_param(\"model\", \"Random Forest\")\n",
    "    mlflow.log_param(\"feature\", \"Speed\")\n",
    "\n",
    "    # Log metrics for Random Forest model\n",
    "    mlflow.log_metric(\"MAE\", mae_rf)\n",
    "\n",
    "    # Log the trained model as an artifact\n",
    "    mlflow.sklearn.log_model(pipeline_rf, \"random_forest_model\")\n",
    "\n",
    "    # Print MAE for Random Forest model\n",
    "    print(\"MAE (Random Forest):\", mae_rf)\n",
    "\n",
    "    # Retrieve the MLflow run ID for Random Forest model\n",
    "    run_id_rf = run_rf.info.run_id\n",
    "    print(\"MLflow Run ID (Random Forest):\", run_id_rf)\n"
   ]
  }
 ],
 "metadata": {
  "kernelspec": {
   "display_name": "Python 3",
   "language": "python",
   "name": "python3"
  },
  "language_info": {
   "codemirror_mode": {
    "name": "ipython",
    "version": 3
   },
   "file_extension": ".py",
   "mimetype": "text/x-python",
   "name": "python",
   "nbconvert_exporter": "python",
   "pygments_lexer": "ipython3",
   "version": "3.11.4"
  }
 },
 "nbformat": 4,
 "nbformat_minor": 2
}
