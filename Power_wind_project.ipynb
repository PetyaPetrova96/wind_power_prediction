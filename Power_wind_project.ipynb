{
 "cells": [
  {
   "cell_type": "code",
   "execution_count": 115,
   "metadata": {},
   "outputs": [],
   "source": [
    "#pip install influxdb\n"
   ]
  },
  {
   "cell_type": "markdown",
   "metadata": {},
   "source": [
    "## Step 1: Data Fetching \n"
   ]
  },
  {
   "cell_type": "code",
   "execution_count": 116,
   "metadata": {},
   "outputs": [],
   "source": [
    "from influxdb import InfluxDBClient\n",
    "import datetime\n",
    "import pandas as pd\n",
    "from termcolor import colored\n",
    "import os\n",
    "import matplotlib.pyplot as plt\n",
    "import numpy as np\n",
    "from sklearn.model_selection import train_test_split\n",
    "import mlflow\n",
    "from sklearn.pipeline import Pipeline\n",
    "from sklearn.preprocessing import StandardScaler\n",
    "from sklearn.linear_model import LinearRegression\n",
    "from sklearn.metrics import mean_absolute_error"
   ]
  },
  {
   "cell_type": "code",
   "execution_count": 117,
   "metadata": {},
   "outputs": [],
   "source": [
    "# Set the needed parameters to connect to the database\n",
    "\n",
    "settings = {\n",
    "    'host': 'influxus.itu.dk',\n",
    "    'port': 8086,\n",
    "    'username': 'lsda',\n",
    "    'password': 'icanonlyread'\n",
    "    }\n",
    "\n",
    "# Create an InfluxDB Client instance and select the orkney database\n",
    "\n",
    "client = InfluxDBClient(host=settings['host'], port=settings['port'], username=settings['username'], password=settings['password'])\n",
    "client.switch_database('orkney')"
   ]
  },
  {
   "cell_type": "code",
   "execution_count": 118,
   "metadata": {},
   "outputs": [],
   "source": [
    "## Function to tranform the InfluxDB resulting set into a Dataframe\n",
    "def set_to_dataframe(resulting_set):\n",
    "    \n",
    "    values = resulting_set.raw[\"series\"][0][\"values\"]\n",
    "    columns = resulting_set.raw[\"series\"][0][\"columns\"]\n",
    "    df = pd.DataFrame(values, columns=columns).set_index(\"time\")\n",
    "    df.index = pd.to_datetime(df.index) # Convert to datetime-index\n",
    "\n",
    "    return df"
   ]
  },
  {
   "cell_type": "code",
   "execution_count": 119,
   "metadata": {},
   "outputs": [],
   "source": [
    "days = 90 # -> You can change this to get any other range of days\n",
    "\n",
    "### YOU DON'T NEED TO CHANGE ANYTHING HERE ###\n",
    "power_set = client.query(\n",
    "    \"SELECT * FROM Generation where time > now()-\"+str(days)+\"d\"\n",
    "    ) # Query written in InfluxQL. We are retrieving all generation data from 90 days back.\n",
    "\n",
    "# Get the last 90 days of weather forecasts with the shortest lead time\n",
    "wind_set  = client.query(\n",
    "    \"SELECT * FROM MetForecasts where time > now()-\"+str(days)+\"d and time <= now() and Lead_hours = '1'\"\n",
    "    ) # Query written in InfluxQL. We are retrieving all weather forecast data from 90 days back and with 1 lead hour.\n",
    "\n",
    "power_df = set_to_dataframe(power_set)\n",
    "wind_df = set_to_dataframe(wind_set)"
   ]
  },
  {
   "cell_type": "code",
   "execution_count": 120,
   "metadata": {},
   "outputs": [
    {
     "data": {
      "text/html": [
       "<div>\n",
       "<style scoped>\n",
       "    .dataframe tbody tr th:only-of-type {\n",
       "        vertical-align: middle;\n",
       "    }\n",
       "\n",
       "    .dataframe tbody tr th {\n",
       "        vertical-align: top;\n",
       "    }\n",
       "\n",
       "    .dataframe thead th {\n",
       "        text-align: right;\n",
       "    }\n",
       "</style>\n",
       "<table border=\"1\" class=\"dataframe\">\n",
       "  <thead>\n",
       "    <tr style=\"text-align: right;\">\n",
       "      <th></th>\n",
       "      <th>ANM</th>\n",
       "      <th>Non-ANM</th>\n",
       "      <th>Total</th>\n",
       "    </tr>\n",
       "    <tr>\n",
       "      <th>time</th>\n",
       "      <th></th>\n",
       "      <th></th>\n",
       "      <th></th>\n",
       "    </tr>\n",
       "  </thead>\n",
       "  <tbody>\n",
       "    <tr>\n",
       "      <th>2024-01-25 19:21:00+00:00</th>\n",
       "      <td>5.736610</td>\n",
       "      <td>14.279</td>\n",
       "      <td>20.015610</td>\n",
       "    </tr>\n",
       "    <tr>\n",
       "      <th>2024-01-25 19:22:00+00:00</th>\n",
       "      <td>5.787310</td>\n",
       "      <td>13.815</td>\n",
       "      <td>19.602310</td>\n",
       "    </tr>\n",
       "    <tr>\n",
       "      <th>2024-01-25 19:23:00+00:00</th>\n",
       "      <td>5.690951</td>\n",
       "      <td>13.688</td>\n",
       "      <td>19.378951</td>\n",
       "    </tr>\n",
       "    <tr>\n",
       "      <th>2024-01-25 19:24:00+00:00</th>\n",
       "      <td>5.934427</td>\n",
       "      <td>13.654</td>\n",
       "      <td>19.588427</td>\n",
       "    </tr>\n",
       "    <tr>\n",
       "      <th>2024-01-25 19:25:00+00:00</th>\n",
       "      <td>6.265571</td>\n",
       "      <td>14.172</td>\n",
       "      <td>20.437571</td>\n",
       "    </tr>\n",
       "  </tbody>\n",
       "</table>\n",
       "</div>"
      ],
      "text/plain": [
       "                                ANM  Non-ANM      Total\n",
       "time                                                   \n",
       "2024-01-25 19:21:00+00:00  5.736610   14.279  20.015610\n",
       "2024-01-25 19:22:00+00:00  5.787310   13.815  19.602310\n",
       "2024-01-25 19:23:00+00:00  5.690951   13.688  19.378951\n",
       "2024-01-25 19:24:00+00:00  5.934427   13.654  19.588427\n",
       "2024-01-25 19:25:00+00:00  6.265571   14.172  20.437571"
      ]
     },
     "execution_count": 120,
     "metadata": {},
     "output_type": "execute_result"
    }
   ],
   "source": [
    "# data taken every minute\n",
    "power_df.head()\n",
    "\n"
   ]
  },
  {
   "cell_type": "code",
   "execution_count": 121,
   "metadata": {},
   "outputs": [
    {
     "data": {
      "text/html": [
       "<div>\n",
       "<style scoped>\n",
       "    .dataframe tbody tr th:only-of-type {\n",
       "        vertical-align: middle;\n",
       "    }\n",
       "\n",
       "    .dataframe tbody tr th {\n",
       "        vertical-align: top;\n",
       "    }\n",
       "\n",
       "    .dataframe thead th {\n",
       "        text-align: right;\n",
       "    }\n",
       "</style>\n",
       "<table border=\"1\" class=\"dataframe\">\n",
       "  <thead>\n",
       "    <tr style=\"text-align: right;\">\n",
       "      <th></th>\n",
       "      <th>time</th>\n",
       "      <th>Direction</th>\n",
       "      <th>Lead_hours</th>\n",
       "      <th>Source_time</th>\n",
       "      <th>Speed</th>\n",
       "    </tr>\n",
       "  </thead>\n",
       "  <tbody>\n",
       "    <tr>\n",
       "      <th>0</th>\n",
       "      <td>2024-01-25 21:00:00+00:00</td>\n",
       "      <td>S</td>\n",
       "      <td>1</td>\n",
       "      <td>1706209200</td>\n",
       "      <td>9.83488</td>\n",
       "    </tr>\n",
       "    <tr>\n",
       "      <th>1</th>\n",
       "      <td>2024-01-26 00:00:00+00:00</td>\n",
       "      <td>S</td>\n",
       "      <td>1</td>\n",
       "      <td>1706220000</td>\n",
       "      <td>11.17600</td>\n",
       "    </tr>\n",
       "    <tr>\n",
       "      <th>2</th>\n",
       "      <td>2024-01-26 03:00:00+00:00</td>\n",
       "      <td>W</td>\n",
       "      <td>1</td>\n",
       "      <td>1706230800</td>\n",
       "      <td>13.85824</td>\n",
       "    </tr>\n",
       "    <tr>\n",
       "      <th>3</th>\n",
       "      <td>2024-01-26 06:00:00+00:00</td>\n",
       "      <td>W</td>\n",
       "      <td>1</td>\n",
       "      <td>1706241600</td>\n",
       "      <td>17.88160</td>\n",
       "    </tr>\n",
       "    <tr>\n",
       "      <th>4</th>\n",
       "      <td>2024-01-26 09:00:00+00:00</td>\n",
       "      <td>WSW</td>\n",
       "      <td>1</td>\n",
       "      <td>1706252400</td>\n",
       "      <td>12.96416</td>\n",
       "    </tr>\n",
       "    <tr>\n",
       "      <th>...</th>\n",
       "      <td>...</td>\n",
       "      <td>...</td>\n",
       "      <td>...</td>\n",
       "      <td>...</td>\n",
       "      <td>...</td>\n",
       "    </tr>\n",
       "    <tr>\n",
       "      <th>697</th>\n",
       "      <td>2024-04-24 06:00:00+00:00</td>\n",
       "      <td>N</td>\n",
       "      <td>1</td>\n",
       "      <td>1713927600</td>\n",
       "      <td>7.15264</td>\n",
       "    </tr>\n",
       "    <tr>\n",
       "      <th>698</th>\n",
       "      <td>2024-04-24 09:00:00+00:00</td>\n",
       "      <td>NNW</td>\n",
       "      <td>1</td>\n",
       "      <td>1713938400</td>\n",
       "      <td>5.81152</td>\n",
       "    </tr>\n",
       "    <tr>\n",
       "      <th>699</th>\n",
       "      <td>2024-04-24 12:00:00+00:00</td>\n",
       "      <td>NNW</td>\n",
       "      <td>1</td>\n",
       "      <td>1713949200</td>\n",
       "      <td>7.15264</td>\n",
       "    </tr>\n",
       "    <tr>\n",
       "      <th>700</th>\n",
       "      <td>2024-04-24 15:00:00+00:00</td>\n",
       "      <td>NW</td>\n",
       "      <td>1</td>\n",
       "      <td>1713960000</td>\n",
       "      <td>9.83488</td>\n",
       "    </tr>\n",
       "    <tr>\n",
       "      <th>701</th>\n",
       "      <td>2024-04-24 18:00:00+00:00</td>\n",
       "      <td>NNW</td>\n",
       "      <td>1</td>\n",
       "      <td>1713970800</td>\n",
       "      <td>8.04672</td>\n",
       "    </tr>\n",
       "  </tbody>\n",
       "</table>\n",
       "<p>702 rows × 5 columns</p>\n",
       "</div>"
      ],
      "text/plain": [
       "                         time Direction Lead_hours  Source_time     Speed\n",
       "0   2024-01-25 21:00:00+00:00         S          1   1706209200   9.83488\n",
       "1   2024-01-26 00:00:00+00:00         S          1   1706220000  11.17600\n",
       "2   2024-01-26 03:00:00+00:00         W          1   1706230800  13.85824\n",
       "3   2024-01-26 06:00:00+00:00         W          1   1706241600  17.88160\n",
       "4   2024-01-26 09:00:00+00:00       WSW          1   1706252400  12.96416\n",
       "..                        ...       ...        ...          ...       ...\n",
       "697 2024-04-24 06:00:00+00:00         N          1   1713927600   7.15264\n",
       "698 2024-04-24 09:00:00+00:00       NNW          1   1713938400   5.81152\n",
       "699 2024-04-24 12:00:00+00:00       NNW          1   1713949200   7.15264\n",
       "700 2024-04-24 15:00:00+00:00        NW          1   1713960000   9.83488\n",
       "701 2024-04-24 18:00:00+00:00       NNW          1   1713970800   8.04672\n",
       "\n",
       "[702 rows x 5 columns]"
      ]
     },
     "execution_count": 121,
     "metadata": {},
     "output_type": "execute_result"
    }
   ],
   "source": [
    "# data taken every 3 hours\n",
    "wind_df.reset_index()"
   ]
  },
  {
   "cell_type": "code",
   "execution_count": 122,
   "metadata": {},
   "outputs": [],
   "source": [
    "# Saving power_df to CSV\n",
    "power_df.to_csv('power_data.csv', index=True)\n",
    "\n",
    "# Saving wind_df to CSV\n",
    "wind_df.to_csv('wind_data.csv', index=True)\n"
   ]
  },
  {
   "cell_type": "code",
   "execution_count": 123,
   "metadata": {},
   "outputs": [
    {
     "name": "stdout",
     "output_type": "stream",
     "text": [
      "                       time       ANM  Non-ANM      Total\n",
      "0 2024-01-25 19:21:00+00:00  5.736610   14.279  20.015610\n",
      "1 2024-01-25 19:22:00+00:00  5.787310   13.815  19.602310\n",
      "2 2024-01-25 19:23:00+00:00  5.690951   13.688  19.378951\n",
      "3 2024-01-25 19:24:00+00:00  5.934427   13.654  19.588427\n",
      "4 2024-01-25 19:25:00+00:00  6.265571   14.172  20.437571\n"
     ]
    }
   ],
   "source": [
    "power_df = power_df.reset_index()\n",
    "print(power_df.head())\n"
   ]
  },
  {
   "cell_type": "code",
   "execution_count": 124,
   "metadata": {},
   "outputs": [
    {
     "name": "stdout",
     "output_type": "stream",
     "text": [
      "                          Direction Lead_hours  Source_time     Speed  \\\n",
      "time                                                                    \n",
      "2024-01-25 21:00:00+00:00         S          1   1706209200   9.83488   \n",
      "2024-01-26 00:00:00+00:00         S          1   1706220000  11.17600   \n",
      "2024-01-26 03:00:00+00:00         W          1   1706230800  13.85824   \n",
      "2024-01-26 06:00:00+00:00         W          1   1706241600  17.88160   \n",
      "2024-01-26 09:00:00+00:00       WSW          1   1706252400  12.96416   \n",
      "\n",
      "                           Direction_Degrees  \n",
      "time                                          \n",
      "2024-01-25 21:00:00+00:00                180  \n",
      "2024-01-26 00:00:00+00:00                180  \n",
      "2024-01-26 03:00:00+00:00                270  \n",
      "2024-01-26 06:00:00+00:00                270  \n",
      "2024-01-26 09:00:00+00:00                247  \n"
     ]
    }
   ],
   "source": [
    "# Encoding the direction of the wnd into degrees\n",
    "direction_set = set(wind_df['Direction'])\n",
    "#print(direction_set)\n",
    "\n",
    "# Mapping dictionary from degrees from http://tamivox.org/dave/compass/\n",
    "direction_mapping = {\n",
    "    'N': 0,\n",
    "    'NNE': 23,\n",
    "    'NE': 45,\n",
    "    'ENE': 67,\n",
    "    'E': 90,\n",
    "    'ESE': 112,\n",
    "    'SE': 135,\n",
    "    'SSE': 152,\n",
    "    'S': 180,\n",
    "    'SSW': 202,\n",
    "    'SW': 225,\n",
    "    'WSW': 247,\n",
    "    'W': 270,\n",
    "    'WNW': 293,\n",
    "    'NW': 315,\n",
    "    'NNW': 337\n",
    "}\n",
    "\n",
    "# Convert direction strings to numerical values\n",
    "wind_df['Direction_Degrees'] = wind_df['Direction'].map(direction_mapping)\n",
    "print(wind_df.head())\n"
   ]
  },
  {
   "cell_type": "code",
   "execution_count": 125,
   "metadata": {},
   "outputs": [
    {
     "name": "stdout",
     "output_type": "stream",
     "text": [
      "                       time Direction Lead_hours  Source_time     Speed  \\\n",
      "0 2024-01-25 21:00:00+00:00         S          1   1706209200   9.83488   \n",
      "1 2024-01-26 00:00:00+00:00         S          1   1706220000  11.17600   \n",
      "2 2024-01-26 03:00:00+00:00         W          1   1706230800  13.85824   \n",
      "3 2024-01-26 06:00:00+00:00         W          1   1706241600  17.88160   \n",
      "4 2024-01-26 09:00:00+00:00       WSW          1   1706252400  12.96416   \n",
      "\n",
      "   Direction_Degrees  \n",
      "0                180  \n",
      "1                180  \n",
      "2                270  \n",
      "3                270  \n",
      "4                247  \n"
     ]
    }
   ],
   "source": [
    "wind_df = wind_df.reset_index()\n",
    "print(wind_df.head())"
   ]
  },
  {
   "cell_type": "markdown",
   "metadata": {},
   "source": []
  },
  {
   "cell_type": "code",
   "execution_count": null,
   "metadata": {},
   "outputs": [],
   "source": []
  },
  {
   "cell_type": "code",
   "execution_count": 126,
   "metadata": {},
   "outputs": [
    {
     "name": "stdout",
     "output_type": "stream",
     "text": [
      "time                 2024-01-25 22:40:00+00:00\n",
      "ANM                                   5.468532\n",
      "Non-ANM                                 13.366\n",
      "Total                                18.834532\n",
      "Direction                                  NaN\n",
      "Lead_hours                                 NaN\n",
      "Source_time                                NaN\n",
      "Speed                                      NaN\n",
      "Direction_Degrees                          NaN\n",
      "Name: 199, dtype: object\n"
     ]
    }
   ],
   "source": [
    "merged = pd.merge(power_df, wind_df, on = \"time\", how='left')\n",
    "row_200 = merged.iloc[199]\n",
    "print(row_200)"
   ]
  },
  {
   "cell_type": "code",
   "execution_count": 127,
   "metadata": {},
   "outputs": [],
   "source": [
    "\n",
    "# Dropping the non needed columns \n",
    "\n",
    "columns_to_remove = ['time','ANM','Non-ANM','Direction', 'Lead_hours', 'Source_time']\n",
    "merged.drop(columns=columns_to_remove, inplace=True)\n"
   ]
  },
  {
   "cell_type": "code",
   "execution_count": 128,
   "metadata": {},
   "outputs": [
    {
     "data": {
      "text/plain": [
       "<bound method NDFrame.head of            Total  Speed  Direction_Degrees\n",
       "0      20.015610    NaN                NaN\n",
       "1      19.602310    NaN                NaN\n",
       "2      19.378951    NaN                NaN\n",
       "3      19.588427    NaN                NaN\n",
       "4      20.437571    NaN                NaN\n",
       "...          ...    ...                ...\n",
       "81807  13.478417    NaN                NaN\n",
       "81808  13.836166    NaN                NaN\n",
       "81809  14.914329    NaN                NaN\n",
       "81810  15.795174    NaN                NaN\n",
       "81811  15.919349    NaN                NaN\n",
       "\n",
       "[81812 rows x 3 columns]>"
      ]
     },
     "execution_count": 128,
     "metadata": {},
     "output_type": "execute_result"
    }
   ],
   "source": [
    "merged.shape\n",
    "merged.head"
   ]
  },
  {
   "cell_type": "code",
   "execution_count": 129,
   "metadata": {},
   "outputs": [
    {
     "data": {
      "image/png": "[encoded data removed]",
      "text/plain": [
       "<Figure size 640x480 with 1 Axes>"
      ]
     },
     "metadata": {},
     "output_type": "display_data"
    }
   ],
   "source": [
    "plt.hist(merged['Direction_Degrees'], bins=40, color='skyblue', edgecolor='black')\n",
    "\n",
    "# Add labels and title\n",
    "plt.xlabel('Direction Degrees')\n",
    "plt.ylabel('Frequency')\n",
    "plt.title('Histogram of Direction Degrees')\n",
    "\n",
    "# Show the plot\n",
    "plt.show()"
   ]
  },
  {
   "cell_type": "code",
   "execution_count": null,
   "metadata": {},
   "outputs": [],
   "source": []
  },
  {
   "cell_type": "code",
   "execution_count": 130,
   "metadata": {},
   "outputs": [
    {
     "data": {
      "image/png": "[encoded data removed]",
      "text/plain": [
       "<Figure size 640x480 with 1 Axes>"
      ]
     },
     "metadata": {},
     "output_type": "display_data"
    }
   ],
   "source": [
    "plt.scatter(merged['Direction_Degrees'],merged['Speed'])\n",
    "plt.xlabel('Direction Degrees')\n",
    "plt.ylabel(' Speed')\n",
    "plt.title('Direction Degrees vs. Wind Speed')\n",
    "plt.show()\n"
   ]
  },
  {
   "cell_type": "code",
   "execution_count": 131,
   "metadata": {},
   "outputs": [
    {
     "data": {
      "text/html": [
       "<div>\n",
       "<style scoped>\n",
       "    .dataframe tbody tr th:only-of-type {\n",
       "        vertical-align: middle;\n",
       "    }\n",
       "\n",
       "    .dataframe tbody tr th {\n",
       "        vertical-align: top;\n",
       "    }\n",
       "\n",
       "    .dataframe thead th {\n",
       "        text-align: right;\n",
       "    }\n",
       "</style>\n",
       "<table border=\"1\" class=\"dataframe\">\n",
       "  <thead>\n",
       "    <tr style=\"text-align: right;\">\n",
       "      <th></th>\n",
       "      <th>Total</th>\n",
       "      <th>Speed</th>\n",
       "      <th>Direction_Degrees</th>\n",
       "    </tr>\n",
       "  </thead>\n",
       "  <tbody>\n",
       "    <tr>\n",
       "      <th>0</th>\n",
       "      <td>20.015610</td>\n",
       "      <td>9.83488</td>\n",
       "      <td>180.0</td>\n",
       "    </tr>\n",
       "    <tr>\n",
       "      <th>1</th>\n",
       "      <td>19.602310</td>\n",
       "      <td>9.83488</td>\n",
       "      <td>180.0</td>\n",
       "    </tr>\n",
       "    <tr>\n",
       "      <th>2</th>\n",
       "      <td>19.378951</td>\n",
       "      <td>9.83488</td>\n",
       "      <td>180.0</td>\n",
       "    </tr>\n",
       "    <tr>\n",
       "      <th>3</th>\n",
       "      <td>19.588427</td>\n",
       "      <td>9.83488</td>\n",
       "      <td>180.0</td>\n",
       "    </tr>\n",
       "    <tr>\n",
       "      <th>4</th>\n",
       "      <td>20.437571</td>\n",
       "      <td>9.83488</td>\n",
       "      <td>180.0</td>\n",
       "    </tr>\n",
       "  </tbody>\n",
       "</table>\n",
       "</div>"
      ],
      "text/plain": [
       "       Total    Speed  Direction_Degrees\n",
       "0  20.015610  9.83488              180.0\n",
       "1  19.602310  9.83488              180.0\n",
       "2  19.378951  9.83488              180.0\n",
       "3  19.588427  9.83488              180.0\n",
       "4  20.437571  9.83488              180.0"
      ]
     },
     "execution_count": 131,
     "metadata": {},
     "output_type": "execute_result"
    }
   ],
   "source": [
    "newdf = merged.interpolate(method='bfill')\n",
    "#newdf.head()"
   ]
  },
  {
   "cell_type": "code",
   "execution_count": 132,
   "metadata": {},
   "outputs": [],
   "source": [
    "newdf.to_csv('full_data.csv')\n"
   ]
  },
  {
   "cell_type": "code",
   "execution_count": null,
   "metadata": {},
   "outputs": [],
   "source": []
  },
  {
   "cell_type": "code",
   "execution_count": 133,
   "metadata": {},
   "outputs": [
    {
     "data": {
      "image/png": "[encoded data removed]",
      "text/plain": [
       "<Figure size 640x480 with 1 Axes>"
      ]
     },
     "metadata": {},
     "output_type": "display_data"
    }
   ],
   "source": [
    "\n",
    "\n",
    "# Plotting mean_total against speed\n",
    "plt.scatter(newdf['Speed'], newdf['Total'])\n",
    "plt.xlabel('Speed')\n",
    "plt.ylabel(' Total Power')\n",
    "plt.title('Total Power vs. Wind Speed')\n",
    "plt.show()\n"
   ]
  },
  {
   "cell_type": "code",
   "execution_count": 134,
   "metadata": {},
   "outputs": [
    {
     "data": {
      "image/png": "[encoded data removed]",
      "text/plain": [
       "<Figure size 500x400 with 2 Axes>"
      ]
     },
     "metadata": {},
     "output_type": "display_data"
    }
   ],
   "source": [
    "import seaborn as sns\n",
    "import matplotlib.pyplot as plt\n",
    "\n",
    "plt.figure(figsize=(5, 4))\n",
    "sns.heatmap(newdf.corr(), cmap=\"coolwarm\", annot=True, fmt=\".2f\")\n",
    "plt.title(\"Correlation Heatmap\")\n",
    "plt.show()\n"
   ]
  },
  {
   "cell_type": "markdown",
   "metadata": {},
   "source": [
    "## EDA"
   ]
  },
  {
   "cell_type": "code",
   "execution_count": 135,
   "metadata": {},
   "outputs": [
    {
     "data": {
      "image/png": "[encoded data removed]",
      "text/plain": [
       "<Figure size 2500x400 with 3 Axes>"
      ]
     },
     "metadata": {},
     "output_type": "display_data"
    }
   ],
   "source": [
    "# Subplots\n",
    "fig, ax = plt.subplots(1,3, figsize=(25,4))\n",
    "\n",
    "# Speed and Power for the last 7 days\n",
    "ax[0].plot(newdf[\"Speed\"].tail(int(7*24/3)), label=\"Speed\", color=\"blue\") # Since the datasets are joined every three hours, we need the last 7 days times 24 hours diveded by 3 hours\n",
    "ax[0].plot(newdf[\"Total\"].tail(int(7*24/3)), label=\"Power\", color=\"tab:red\") # Since the datasets are joined every three hours, we need the last 7 days times 24 hours diveded by 3 hours\n",
    "ax[0].set_title(\"Windspeed & Power Generation over last 7 days\")\n",
    "ax[0].set_xlabel(\"Time\")\n",
    "ax[0].tick_params(axis='x', labelrotation = 45)\n",
    "ax[0].set_ylabel(\"Windspeed [m/s], Power [MW]\")\n",
    "ax[0].legend()\n",
    "\n",
    "# Speed vs Total (Power Curve nature)\n",
    "ax[1].scatter(newdf[\"Speed\"], newdf[\"Total\"])\n",
    "power_curve = newdf.groupby(\"Speed\").median(numeric_only=True)[\"Total\"]\n",
    "ax[1].plot(power_curve.index, power_curve.values, \"k:\", label=\"Power Curve\")\n",
    "ax[1].legend()\n",
    "ax[1].set_title(\"Windspeed vs Power\")\n",
    "ax[1].set_ylabel(\"Power [MW]\")\n",
    "ax[1].set_xlabel(\"Windspeed [m/s]\")\n",
    "\n",
    "# Speed and Power per Wind Direction\n",
    "wind_grouped_by_direction = newdf.groupby(\"Direction_Degrees\").mean(numeric_only=True).reset_index()\n",
    "bar_width = 0.5\n",
    "x = np.arange(len(wind_grouped_by_direction.index))\n",
    "\n",
    "ax[2].bar(x, wind_grouped_by_direction.Total, width=0.5, label=\"Power\", color=\"tab:red\")\n",
    "ax[2].bar(x + bar_width, wind_grouped_by_direction.Total, width=0.5, label=\"Speed\", color=\"blue\")\n",
    "ax[2].legend()\n",
    "ax[2].set_xticks(x)\n",
    "ax[2].set_xticklabels(wind_grouped_by_direction.Direction_Degrees)\n",
    "ax[2].tick_params(axis='x', labelrotation = 45)\n",
    "ax[2].set_title(\"Speed and Power per Direction\");"
   ]
  },
  {
   "cell_type": "code",
   "execution_count": 136,
   "metadata": {},
   "outputs": [
    {
     "data": {
      "text/plain": [
       "(81812, 3)"
      ]
     },
     "execution_count": 136,
     "metadata": {},
     "output_type": "execute_result"
    }
   ],
   "source": [
    "newdf.shape"
   ]
  },
  {
   "cell_type": "code",
   "execution_count": 137,
   "metadata": {},
   "outputs": [
    {
     "data": {
      "text/html": [
       "<div>\n",
       "<style scoped>\n",
       "    .dataframe tbody tr th:only-of-type {\n",
       "        vertical-align: middle;\n",
       "    }\n",
       "\n",
       "    .dataframe tbody tr th {\n",
       "        vertical-align: top;\n",
       "    }\n",
       "\n",
       "    .dataframe thead th {\n",
       "        text-align: right;\n",
       "    }\n",
       "</style>\n",
       "<table border=\"1\" class=\"dataframe\">\n",
       "  <thead>\n",
       "    <tr style=\"text-align: right;\">\n",
       "      <th></th>\n",
       "      <th>Total</th>\n",
       "    </tr>\n",
       "  </thead>\n",
       "  <tbody>\n",
       "    <tr>\n",
       "      <th>0</th>\n",
       "      <td>20.015610</td>\n",
       "    </tr>\n",
       "    <tr>\n",
       "      <th>1</th>\n",
       "      <td>19.602310</td>\n",
       "    </tr>\n",
       "    <tr>\n",
       "      <th>2</th>\n",
       "      <td>19.378951</td>\n",
       "    </tr>\n",
       "    <tr>\n",
       "      <th>3</th>\n",
       "      <td>19.588427</td>\n",
       "    </tr>\n",
       "    <tr>\n",
       "      <th>4</th>\n",
       "      <td>20.437571</td>\n",
       "    </tr>\n",
       "    <tr>\n",
       "      <th>...</th>\n",
       "      <td>...</td>\n",
       "    </tr>\n",
       "    <tr>\n",
       "      <th>81807</th>\n",
       "      <td>13.478417</td>\n",
       "    </tr>\n",
       "    <tr>\n",
       "      <th>81808</th>\n",
       "      <td>13.836166</td>\n",
       "    </tr>\n",
       "    <tr>\n",
       "      <th>81809</th>\n",
       "      <td>14.914329</td>\n",
       "    </tr>\n",
       "    <tr>\n",
       "      <th>81810</th>\n",
       "      <td>15.795174</td>\n",
       "    </tr>\n",
       "    <tr>\n",
       "      <th>81811</th>\n",
       "      <td>15.919349</td>\n",
       "    </tr>\n",
       "  </tbody>\n",
       "</table>\n",
       "<p>81812 rows × 1 columns</p>\n",
       "</div>"
      ],
      "text/plain": [
       "           Total\n",
       "0      20.015610\n",
       "1      19.602310\n",
       "2      19.378951\n",
       "3      19.588427\n",
       "4      20.437571\n",
       "...          ...\n",
       "81807  13.478417\n",
       "81808  13.836166\n",
       "81809  14.914329\n",
       "81810  15.795174\n",
       "81811  15.919349\n",
       "\n",
       "[81812 rows x 1 columns]"
      ]
     },
     "execution_count": 137,
     "metadata": {},
     "output_type": "execute_result"
    }
   ],
   "source": [
    "newdf.dropna(how='all')\n",
    "newdf.dropna(axis='columns')"
   ]
  },
  {
   "cell_type": "code",
   "execution_count": 138,
   "metadata": {},
   "outputs": [
    {
     "name": "stdout",
     "output_type": "stream",
     "text": [
      "Total                 0\n",
      "Speed                80\n",
      "Direction_Degrees    80\n",
      "dtype: int64\n"
     ]
    }
   ],
   "source": [
    "# Count NA values in each column\n",
    "na_counts = newdf.isna().sum()\n",
    "\n",
    "# Print the result\n",
    "print(na_counts)"
   ]
  },
  {
   "cell_type": "code",
   "execution_count": 139,
   "metadata": {},
   "outputs": [
    {
     "data": {
      "text/plain": [
       "(81812, 3)"
      ]
     },
     "execution_count": 139,
     "metadata": {},
     "output_type": "execute_result"
    }
   ],
   "source": [
    "newdf.shape"
   ]
  },
  {
   "cell_type": "code",
   "execution_count": 140,
   "metadata": {},
   "outputs": [],
   "source": [
    "df_cleaned = newdf.dropna()"
   ]
  },
  {
   "cell_type": "code",
   "execution_count": 141,
   "metadata": {},
   "outputs": [
    {
     "data": {
      "text/html": [
       "<div>\n",
       "<style scoped>\n",
       "    .dataframe tbody tr th:only-of-type {\n",
       "        vertical-align: middle;\n",
       "    }\n",
       "\n",
       "    .dataframe tbody tr th {\n",
       "        vertical-align: top;\n",
       "    }\n",
       "\n",
       "    .dataframe thead th {\n",
       "        text-align: right;\n",
       "    }\n",
       "</style>\n",
       "<table border=\"1\" class=\"dataframe\">\n",
       "  <thead>\n",
       "    <tr style=\"text-align: right;\">\n",
       "      <th></th>\n",
       "      <th>Total</th>\n",
       "      <th>Speed</th>\n",
       "      <th>Direction_Degrees</th>\n",
       "    </tr>\n",
       "  </thead>\n",
       "  <tbody>\n",
       "    <tr>\n",
       "      <th>0</th>\n",
       "      <td>20.015610</td>\n",
       "      <td>9.83488</td>\n",
       "      <td>180.0</td>\n",
       "    </tr>\n",
       "    <tr>\n",
       "      <th>1</th>\n",
       "      <td>19.602310</td>\n",
       "      <td>9.83488</td>\n",
       "      <td>180.0</td>\n",
       "    </tr>\n",
       "    <tr>\n",
       "      <th>2</th>\n",
       "      <td>19.378951</td>\n",
       "      <td>9.83488</td>\n",
       "      <td>180.0</td>\n",
       "    </tr>\n",
       "    <tr>\n",
       "      <th>3</th>\n",
       "      <td>19.588427</td>\n",
       "      <td>9.83488</td>\n",
       "      <td>180.0</td>\n",
       "    </tr>\n",
       "    <tr>\n",
       "      <th>4</th>\n",
       "      <td>20.437571</td>\n",
       "      <td>9.83488</td>\n",
       "      <td>180.0</td>\n",
       "    </tr>\n",
       "  </tbody>\n",
       "</table>\n",
       "</div>"
      ],
      "text/plain": [
       "       Total    Speed  Direction_Degrees\n",
       "0  20.015610  9.83488              180.0\n",
       "1  19.602310  9.83488              180.0\n",
       "2  19.378951  9.83488              180.0\n",
       "3  19.588427  9.83488              180.0\n",
       "4  20.437571  9.83488              180.0"
      ]
     },
     "execution_count": 141,
     "metadata": {},
     "output_type": "execute_result"
    }
   ],
   "source": [
    "df_cleaned.shape\n",
    "df_cleaned.head()"
   ]
  },
  {
   "cell_type": "markdown",
   "metadata": {},
   "source": [
    "## Step 2 Pipeline and data transformations"
   ]
  },
  {
   "cell_type": "markdown",
   "metadata": {},
   "source": []
  },
  {
   "cell_type": "code",
   "execution_count": 142,
   "metadata": {},
   "outputs": [],
   "source": [
    "# A very basic pipeline\n",
    "pipeline_example = Pipeline([\n",
    "    # Transformations\n",
    "    (\"Scaler\", StandardScaler()),\n",
    "    # Estimator\n",
    "    (\"Linear Regression\", LinearRegression())\n",
    "])"
   ]
  },
  {
   "cell_type": "markdown",
   "metadata": {},
   "source": [
    "## Evaluate the models"
   ]
  },
  {
   "cell_type": "code",
   "execution_count": 143,
   "metadata": {},
   "outputs": [
    {
     "name": "stdout",
     "output_type": "stream",
     "text": [
      "Mean Absolute Error on Dev Set: 5.164028059560389\n",
      "Mean Absolute Error on Test Set: 5.1134232186472675\n"
     ]
    }
   ],
   "source": [
    "from sklearn.model_selection import train_test_split\n",
    "\n",
    "# Select our feature variables and our target variable.\n",
    "X = df_cleaned[\"Speed\"].values.reshape(-1, 1)\n",
    "y = df_cleaned[\"Total\"].values.reshape(-1, 1)\n",
    "\n",
    "# Split the data into train, dev, and test sets\n",
    "X_train_dev, X_test, y_train_dev, y_test = train_test_split(\n",
    "    X, y, test_size=0.2, random_state=42\n",
    ") \n",
    "\n",
    "X_train, X_dev, y_train, y_dev = train_test_split(\n",
    "    X_train_dev, y_train_dev, test_size=0.25, random_state=42\n",
    ")\n",
    "\n",
    "# Train our model\n",
    "pipeline_example.fit(X_train, y_train)\n",
    "\n",
    "# Evaluate the model, using MAE as a metric on the dev set\n",
    "mae_dev = mean_absolute_error(pipeline_example.predict(X_dev), y_dev)\n",
    "print(\"Mean Absolute Error on Dev Set:\", mae_dev)\n",
    "\n",
    "# Evaluate the model on the test set\n",
    "mae_test = mean_absolute_error(pipeline_example.predict(X_test), y_test)\n",
    "print(\"Mean Absolute Error on Test Set:\", mae_test)\n"
   ]
  },
  {
   "cell_type": "code",
   "execution_count": 144,
   "metadata": {},
   "outputs": [],
   "source": [
    "import mlflow\n",
    "from sklearn.pipeline import Pipeline\n",
    "from sklearn.preprocessing import StandardScaler\n",
    "from sklearn.linear_model import LinearRegression\n",
    "from sklearn.model_selection import train_test_split\n",
    "from sklearn.metrics import mean_absolute_error\n",
    "\n",
    "\n",
    "# Start MLflow run\n",
    "with mlflow.start_run(run_name=\"Lin_regre_1feature_Speed\") as run:\n",
    "\n",
    "    # Define your pipeline\n",
    "    pipeline_example = Pipeline([\n",
    "        # Transformations\n",
    "        (\"Scaler\", StandardScaler()),\n",
    "        # Estimator\n",
    "        (\"Linear Regression\", LinearRegression())\n",
    "    ])\n",
    "\n",
    "    # Select our feature variables and our target variable.\n",
    "    X = df_cleaned[\"Speed\"].values.reshape(-1,1)\n",
    "    y = df_cleaned[\"Total\"].values.reshape(-1,1)\n",
    "\n",
    " \n",
    "    # Train our model on the train set\n",
    "    pipeline_example.fit(X_train, y_train)\n",
    "\n",
    "    # Evaluate the model on the dev set, using MAE as a metric\n",
    "    mae_dev = mean_absolute_error(pipeline_example.predict(X_dev), y_dev)\n",
    "\n",
    "    # Log parameters\n",
    "    mlflow.log_param(\"model\", \"Linear Regression\")\n",
    "    mlflow.log_param(\"feature\", \"Speed\")\n",
    "\n",
    "    # Log metrics\n",
    "    mlflow.log_metric(\"MAE on Dev Set\", mae_dev)\n",
    "\n",
    "    # Log the trained model as an artifact\n",
    "    mlflow.sklearn.log_model(pipeline_example, \"model\")\n"
   ]
  },
  {
   "cell_type": "code",
   "execution_count": 145,
   "metadata": {},
   "outputs": [],
   "source": [
    "\n",
    "\n",
    "# Start MLflow run\n",
    "with mlflow.start_run(run_name=\"Lin_regre_1feature_Direction\") as run:\n",
    "\n",
    "    # Define your pipeline\n",
    "    pipeline_example = Pipeline([\n",
    "        # Transformations\n",
    "        (\"Scaler\", StandardScaler()),\n",
    "        # Estimator\n",
    "        (\"Linear Regression\", LinearRegression())\n",
    "    ])\n",
    "\n",
    "    # Select our feature variables and our target variable.\n",
    "    X = df_cleaned[\"Direction_Degrees\"].values.reshape(-1,1)\n",
    "    y = df_cleaned[\"Total\"].values.reshape(-1,1)\n",
    "\n",
    "\n",
    "    # Train our model on the train set\n",
    "    pipeline_example.fit(X_train, y_train)\n",
    "\n",
    "    # Evaluate the model on the dev set, using MAE as a metric\n",
    "    mae_dev = mean_absolute_error(pipeline_example.predict(X_dev), y_dev)\n",
    "\n",
    "    # Log parameters\n",
    "    mlflow.log_param(\"model\", \"Linear Regression\")\n",
    "    mlflow.log_param(\"feature\", \"Direction\")\n",
    "\n",
    "    # Log metrics\n",
    "    mlflow.log_metric(\"MAE on Dev Set\", mae_dev)\n",
    "\n",
    "    # Log the trained model as an artifact\n",
    "    mlflow.sklearn.log_model(pipeline_example, \"model\")\n"
   ]
  },
  {
   "cell_type": "code",
   "execution_count": 146,
   "metadata": {},
   "outputs": [
    {
     "name": "stdout",
     "output_type": "stream",
     "text": [
      "MAE (LR with 2 features) on Dev Set: 5.164028059560389\n",
      "MLflow Run ID (LR with 2 features): 10673e2f5cc24a73a7347289dcb99494\n"
     ]
    }
   ],
   "source": [
    "\n",
    "\n",
    "# Select our feature variables and our target variable.\n",
    "X = df_cleaned[[\"Speed\", \"Direction_Degrees\"]]\n",
    "y = df_cleaned[\"Total\"]\n",
    "\n",
    "\n",
    "# Start MLflow run for Linear Regression model with 2 features\n",
    "with mlflow.start_run(run_name=\"Lin_reg_2features\") as run_lr_2_features:\n",
    "\n",
    "    # Define your pipeline for Linear Regression with 2 features\n",
    "    pipeline_lr_2_features = Pipeline([\n",
    "        # Transformations\n",
    "        (\"Scaler\", StandardScaler()),\n",
    "        # Estimator\n",
    "        (\"Linear Regression\", LinearRegression())\n",
    "    ])\n",
    "\n",
    "    # Train the Linear Regression model with 2 features on the train set\n",
    "    pipeline_lr_2_features.fit(X_train, y_train)\n",
    "\n",
    "    # Evaluate the model on the dev set, using MAE as a metric\n",
    "    mae_lr_2_features_dev = mean_absolute_error(pipeline_lr_2_features.predict(X_dev), y_dev)\n",
    "\n",
    "    # Log parameters for Linear Regression model with 2 features\n",
    "    mlflow.log_param(\"model\", \"Linear Regression\")\n",
    "    mlflow.log_param(\"features\", \"Speed, Direction_Degrees\")\n",
    "\n",
    "    # Log metrics for Linear Regression model with 2 features\n",
    "    mlflow.log_metric(\"MAE on Dev Set\", mae_lr_2_features_dev)\n",
    "\n",
    "    # Log the trained model as an artifact\n",
    "    mlflow.sklearn.log_model(pipeline_lr_2_features, \"lr_2_features_model\")\n",
    "\n",
    "    # Print MAE for Linear Regression model with 2 features\n",
    "    print(\"MAE (LR with 2 features) on Dev Set:\", mae_lr_2_features_dev)\n",
    "\n",
    "    # Retrieve the MLflow run ID for Linear Regression model with 2 features\n",
    "    run_id_lr_2_features = run_lr_2_features.info.run_id\n",
    "    print(\"MLflow Run ID (LR with 2 features):\", run_id_lr_2_features)\n"
   ]
  },
  {
   "cell_type": "code",
   "execution_count": 147,
   "metadata": {},
   "outputs": [
    {
     "name": "stdout",
     "output_type": "stream",
     "text": [
      "MAE (KNN) on Dev Set: 3.7546722538202726\n",
      "MLflow Run ID (KNN): e61ba1e8ee014caf87ac5882f1454596\n"
     ]
    }
   ],
   "source": [
    "from sklearn.neighbors import KNeighborsRegressor\n",
    "\n",
    "\n",
    "with mlflow.start_run(run_name=\"KNN_Model\") as run_knn:\n",
    "\n",
    "    # Define your pipeline for KNN\n",
    "    pipeline_knn = Pipeline([\n",
    "        # Transformations (if necessary)\n",
    "        (\"Scaler\", StandardScaler()),  # Scale features for better performance of KNN\n",
    "        # Estimator\n",
    "        (\"KNN\", KNeighborsRegressor())  # Initialize KNN model\n",
    "    ])\n",
    "\n",
    "    # Train the KNN model on the train set\n",
    "    pipeline_knn.fit(X_train, y_train)\n",
    "\n",
    "    # Evaluate the model on the dev set, using MAE as a metric\n",
    "    mae_knn_dev = mean_absolute_error(pipeline_knn.predict(X_dev), y_dev)\n",
    "\n",
    "    # Log parameters for KNN model\n",
    "    mlflow.log_param(\"model\", \"K-Nearest Neighbors\")\n",
    "    mlflow.log_param(\"feature\", \"Speed, Direction_Degrees\")\n",
    "\n",
    "    # Log metrics for KNN model\n",
    "    mlflow.log_metric(\"MAE on Dev Set\", mae_knn_dev)\n",
    "\n",
    "    # Log the trained model as an artifact\n",
    "    mlflow.sklearn.log_model(pipeline_knn, \"knn_model\")\n",
    "\n",
    "    # Print MAE for KNN model on the dev set\n",
    "    print(\"MAE (KNN) on Dev Set:\", mae_knn_dev)\n",
    "\n",
    "    # Retrieve the MLflow run ID for KNN model\n",
    "    run_id_knn = run_knn.info.run_id\n",
    "    print(\"MLflow Run ID (KNN):\", run_id_knn)\n"
   ]
  },
  {
   "cell_type": "code",
   "execution_count": 148,
   "metadata": {},
   "outputs": [
    {
     "name": "stdout",
     "output_type": "stream",
     "text": [
      "MAE (Random Forest) on Dev Set: 2.678482331183641\n",
      "MLflow Run ID (Random Forest): cb071827df8947489522e879f57505b2\n"
     ]
    }
   ],
   "source": [
    "from sklearn.ensemble import RandomForestRegressor\n",
    "\n",
    "\n",
    "# Select our feature variables and our target variable.\n",
    "X = df_cleaned[[\"Speed\", \"Direction_Degrees\"]]\n",
    "y = df_cleaned[\"Total\"]\n",
    "\n",
    "# Start MLflow run for Random Forest model with a specific run name\n",
    "with mlflow.start_run(run_name=\"RandomForest_Model\") as run_rf:\n",
    "\n",
    "    # Define your pipeline for Random Forest\n",
    "    pipeline_rf = Pipeline([\n",
    "        # Transformations (if necessary)\n",
    "        (\"Scaler\", StandardScaler()),  # Scale features for better performance\n",
    "        # Estimator\n",
    "        (\"RandomForest\", RandomForestRegressor())  # Initialize Random Forest model\n",
    "    ])\n",
    "\n",
    "    # Split the data into train, dev, and test sets\n",
    "    X_train_dev, X_test, y_train_dev, y_test = train_test_split(X, y, test_size=0.2, random_state=42)  # Splitting into 80% train/dev and 20% test\n",
    "    X_train, X_dev, y_train, y_dev = train_test_split(X_train_dev, y_train_dev, test_size=0.25, random_state=42)  # Splitting train/dev into 60% train and 20% dev\n",
    "\n",
    "    # Train the Random Forest model on the train set\n",
    "    pipeline_rf.fit(X_train, y_train)\n",
    "\n",
    "    # Evaluate the model on the dev set, using MAE as a metric\n",
    "    mae_rf_dev = mean_absolute_error(pipeline_rf.predict(X_dev), y_dev)\n",
    "\n",
    "    # Log parameters for Random Forest model\n",
    "    mlflow.log_param(\"model\", \"Random Forest\")\n",
    "    mlflow.log_param(\"feature\", \"Speed, Direction_Degrees\")\n",
    "\n",
    "    # Log metrics for Random Forest model\n",
    "    mlflow.log_metric(\"MAE on Dev Set\", mae_rf_dev)\n",
    "\n",
    "    # Log the trained model as an artifact\n",
    "    mlflow.sklearn.log_model(pipeline_rf, \"random_forest_model\")\n",
    "\n",
    "    # Print MAE for Random Forest model on the dev set\n",
    "    print(\"MAE (Random Forest) on Dev Set:\", mae_rf_dev)\n",
    "\n",
    "    # Retrieve the MLflow run ID for Random Forest model\n",
    "    run_id_rf = run_rf.info.run_id\n",
    "    print(\"MLflow Run ID (Random Forest):\", run_id_rf)\n"
   ]
  },
  {
   "cell_type": "code",
   "execution_count": 149,
   "metadata": {},
   "outputs": [],
   "source": [
    "import pickle\n",
    "# Save the trained model as a pickle file\n",
    "with open(\"random_forest_model.pkl\", \"wb\") as f:\n",
    "    pickle.dump(pipeline_rf, f)\n",
    "\n"
   ]
  },
  {
   "cell_type": "code",
   "execution_count": 156,
   "metadata": {},
   "outputs": [],
   "source": [
    "# Load the trained model from the pickle file\n",
    "with open(\"random_forest_model.pkl\", \"rb\") as f:\n",
    "    loaded_model1 = pickle.load(f)"
   ]
  },
  {
   "cell_type": "code",
   "execution_count": 157,
   "metadata": {},
   "outputs": [
    {
     "name": "stdout",
     "output_type": "stream",
     "text": [
      "MAE on Test Set: 2.6277460488779973\n"
     ]
    }
   ],
   "source": [
    "# Use the loaded model to make predictions on the test data\n",
    "predictions = loaded_model1.predict(X_test)\n",
    "\n",
    "# Evaluate the predictions using mean absolute error (MAE)\n",
    "mae_test = mean_absolute_error(predictions, y_test)\n",
    "\n",
    "print(\"MAE on Test Set:\", mae_test)"
   ]
  },
  {
   "cell_type": "code",
   "execution_count": 151,
   "metadata": {},
   "outputs": [
    {
     "name": "stdout",
     "output_type": "stream",
     "text": [
      "Fitting 5 folds for each of 162 candidates, totalling 810 fits\n",
      "Best Parameters: {'max_depth': None, 'max_features': 'sqrt', 'min_samples_leaf': 1, 'min_samples_split': 2, 'n_estimators': 100}\n",
      "Best Negative MAE: 2.694608696689268\n"
     ]
    }
   ],
   "source": [
    "from sklearn.model_selection import GridSearchCV\n",
    "\n",
    "# Define the parameters\n",
    "param_grid = {\n",
    "    'n_estimators': [50, 100, 150],  # Number of trees in the forest\n",
    "    'max_depth': [None, 10, 20],  # Maximum depth of each tree\n",
    "    'min_samples_split': [2, 5, 10],  # Minimum number of samples required to split an internal node\n",
    "    'min_samples_leaf': [1, 2, 4],  # Minimum number of samples required to be at a leaf node\n",
    "    'max_features': ['auto', 'sqrt'],  # Number of features to consider when looking for the best split\n",
    "}\n",
    "\n",
    "# Create the GridSearchCV object\n",
    "grid_search = GridSearchCV(estimator=RandomForestRegressor(random_state=42),\n",
    "                           param_grid=param_grid,\n",
    "                           scoring='neg_mean_absolute_error',  # Use MAE as the scoring metric\n",
    "                           cv=5,  # 5-fold cross-validation\n",
    "                           verbose=2,  # Increase verbosity to see progress\n",
    "                           n_jobs=-1)  # Use all available CPU cores\n",
    "\n",
    "# Perform grid search on the dev data\n",
    "grid_search.fit(X_dev, y_dev)\n",
    "\n",
    "# Get the best parameters and best score\n",
    "best_params = grid_search.best_params_\n",
    "best_score = -grid_search.best_score_\n",
    "\n",
    "print(\"Best Parameters:\", best_params)\n",
    "print(\"Best Negative MAE:\", best_score)\n"
   ]
  },
  {
   "cell_type": "code",
   "execution_count": 152,
   "metadata": {},
   "outputs": [
    {
     "name": "stderr",
     "output_type": "stream",
     "text": [
      "c:\\Users\\45911\\AppData\\Local\\Programs\\Python\\Python311\\Lib\\site-packages\\sklearn\\ensemble\\_forest.py:413: FutureWarning: `max_features='auto'` has been deprecated in 1.1 and will be removed in 1.3. To keep the past behaviour, explicitly set `max_features=1.0` or remove this parameter as it is also the default value for RandomForestRegressors and ExtraTreesRegressors.\n",
      "  warn(\n"
     ]
    },
    {
     "name": "stdout",
     "output_type": "stream",
     "text": [
      "MAE (Random Forest) on Dev Set: 2.7269687628261123\n",
      "MLflow Run ID (Random Forest): 66a6ec9b1f434b4592a4eca50f426554\n"
     ]
    }
   ],
   "source": [
    "\n",
    "\n",
    "# Select our feature variables and our target variable.\n",
    "X = df_cleaned[[\"Speed\", \"Direction_Degrees\"]]\n",
    "y = df_cleaned[\"Total\"]\n",
    "\n",
    "# Define the best parameters found during grid search\n",
    "best_params = {\n",
    "    'n_estimators': 100,    'max_depth': 10,    'min_samples_split': 2,\n",
    "    'min_samples_leaf': 1,\n",
    "    'max_features': 'auto'\n",
    "}\n",
    "\n",
    "# Start MLflow run for Random Forest model with a specific run name\n",
    "with mlflow.start_run(run_name=\"RandomForest_Model_Tuned\") as run_rf:\n",
    "\n",
    "    # Define your pipeline for Random Forest with the best parameters\n",
    "    pipeline_rf = Pipeline([\n",
    "        # Transformations (if necessary)\n",
    "        (\"Scaler\", StandardScaler()),  # Scale features for better performance\n",
    "        # Estimator\n",
    "        (\"RandomForest\", RandomForestRegressor(**best_params))  # Initialize Random Forest model with best parameters\n",
    "    ])\n",
    "\n",
    "    # Split the data into train, dev, and test sets\n",
    "    X_train_dev, X_test, y_train_dev, y_test = train_test_split(X, y, test_size=0.2, random_state=42)  # Splitting into 80% train/dev and 20% test\n",
    "    X_train, X_dev, y_train, y_dev = train_test_split(X_train_dev, y_train_dev, test_size=0.25, random_state=42)  # Splitting train/dev into 60% train and 20% dev\n",
    "\n",
    "    # Train the Random Forest model on the train set\n",
    "    pipeline_rf.fit(X_train, y_train)\n",
    "\n",
    "    # Evaluate the model on the dev set, using MAE as a metric\n",
    "    mae_rf_dev = mean_absolute_error(pipeline_rf.predict(X_dev), y_dev)\n",
    "\n",
    "    # Log parameters for Random Forest model\n",
    "    mlflow.log_param(\"model\", \"Random Forest\")\n",
    "    mlflow.log_param(\"feature\", \"Speed, Direction_Degrees\")\n",
    "\n",
    "    # Log metrics for Random Forest model\n",
    "    mlflow.log_metric(\"MAE on Dev Set\", mae_rf_dev)\n",
    "\n",
    "    # Log the trained model as an artifact\n",
    "    mlflow.sklearn.log_model(pipeline_rf, \"random_forest_model\")\n",
    "\n",
    "    # Print MAE for Random Forest model on the dev set\n",
    "    print(\"MAE (Random Forest) on Dev Set:\", mae_rf_dev)\n",
    "\n",
    "    # Retrieve the MLflow run ID for Random Forest model\n",
    "    run_id_rf = run_rf.info.run_id\n",
    "    print(\"MLflow Run ID (Random Forest):\", run_id_rf)\n",
    "\n"
   ]
  },
  {
   "cell_type": "code",
   "execution_count": 153,
   "metadata": {},
   "outputs": [],
   "source": [
    "import pickle\n",
    "# Save the trained model as a pickle file\n",
    "with open(\"random_forest_model_tuned.pkl\", \"wb\") as f:\n",
    "    pickle.dump(pipeline_rf, f)\n",
    "\n"
   ]
  },
  {
   "cell_type": "code",
   "execution_count": 154,
   "metadata": {},
   "outputs": [],
   "source": [
    "# Load the trained model from the pickle file\n",
    "with open(\"random_forest_model_tuned.pkl\", \"rb\") as f:\n",
    "    loaded_model = pickle.load(f)"
   ]
  },
  {
   "cell_type": "code",
   "execution_count": 155,
   "metadata": {},
   "outputs": [
    {
     "name": "stdout",
     "output_type": "stream",
     "text": [
      "MAE on Test Set: 2.6809233604679674\n"
     ]
    }
   ],
   "source": [
    "# Use the loaded model to make predictions on the test data\n",
    "predictions = loaded_model.predict(X_test)\n",
    "\n",
    "# Evaluate the predictions using mean absolute error (MAE)\n",
    "mae_test = mean_absolute_error(predictions, y_test)\n",
    "\n",
    "print(\"MAE on Test Set:\", mae_test)"
   ]
  }
 ],
 "metadata": {
  "kernelspec": {
   "display_name": "Python 3",
   "language": "python",
   "name": "python3"
  },
  "language_info": {
   "codemirror_mode": {
    "name": "ipython",
    "version": 3
   },
   "file_extension": ".py",
   "mimetype": "text/x-python",
   "name": "python",
   "nbconvert_exporter": "python",
   "pygments_lexer": "ipython3",
   "version": "3.11.4"
  }
 },
 "nbformat": 4,
 "nbformat_minor": 2
}
